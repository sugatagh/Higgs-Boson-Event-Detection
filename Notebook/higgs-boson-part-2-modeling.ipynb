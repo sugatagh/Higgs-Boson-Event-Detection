{
 "cells": [
  {
   "cell_type": "markdown",
   "id": "be56c51c",
   "metadata": {
    "papermill": {
     "duration": 0.02072,
     "end_time": "2024-02-13T08:53:09.892577",
     "exception": false,
     "start_time": "2024-02-13T08:53:09.871857",
     "status": "completed"
    },
    "tags": []
   },
   "source": [
    "<h2><center> <span style = \"font-family: Babas; font-size: 2em;\"> Higgs Boson Event Detection </span> </center></h2>\n",
    "<h4><center> <span style = \"font-family: Babas; font-size: 2em;\"> Part 2. Modeling </span> </center></h4>\n",
    "<h4><center> <span style = \"font-family: Babas; font-size: 2em;\"> Sugata Ghosh </span> </center></h4>"
   ]
  },
  {
   "cell_type": "markdown",
   "id": "557c329a",
   "metadata": {
    "papermill": {
     "duration": 0.019833,
     "end_time": "2024-02-13T08:53:09.932367",
     "exception": false,
     "start_time": "2024-02-13T08:53:09.912534",
     "status": "completed"
    },
    "tags": []
   },
   "source": [
    "---\n",
    "\n",
    "In [**particle physics**](https://en.wikipedia.org/wiki/Particle_physics), an **event** refers to the results just after a [**fundamental interaction**](https://en.wikipedia.org/wiki/Fundamental_interaction) took place between subatomic particles, occurring in a very short time span, at a well-localized region of space. A **background event** is explained by the existing theories and previous observations. On the other hand, a **signal event** indicates a process that cannot be described by previous observations and leads to the potential discovery of a new particle. \n",
    "\n",
    "In the present notebook, we build a [**neural network**](https://en.wikipedia.org/wiki/Neural_network) and train it on the data provided in the Kaggle competition [**Higgs Boson Machine Learning Challenge**](https://www.kaggle.com/competitions/higgs-boson/) to predict if a given event is background or signal. For a detailed backdrop of the problem and [**exploratory data analysis**](https://en.wikipedia.org/wiki/Exploratory_data_analysis) on the provided data, the reader is referred to the prequel notebook [**Higgs Boson Event Detection - Part 1. EDA**](https://www.kaggle.com/code/sugataghosh/higgs-boson-event-detection-part-1-eda). We shall be using a number of observations from the prequel notebook, in particular in the **preprocessing** and **feature engineering** stages. \n",
    "\n",
    "We use the [**approximate median significance**](https://www.kaggle.com/competitions/higgs-boson/overview/evaluation) (AMS) metric to evaluate the models. The final model obtains a training AMS of $2.500144$ and test AMS of $1.200022$. It achieves a training accuracy of $0.82707$ and a test accuracy of $0.82410$.\n",
    "\n",
    "---"
   ]
  },
  {
   "cell_type": "markdown",
   "id": "cb14a893",
   "metadata": {
    "papermill": {
     "duration": 0.019137,
     "end_time": "2024-02-13T08:53:09.971231",
     "exception": false,
     "start_time": "2024-02-13T08:53:09.952094",
     "status": "completed"
    },
    "tags": []
   },
   "source": [
    "### Contents\n",
    "\n",
    "- **Data**\n",
    "- **Evaluation Metric**\n",
    "- **Train-Test Split**\n",
    "- **Preprocessing**\n",
    "- **Feature Engineering**\n",
    "- **Baseline Model**\n",
    "- **Hyperparameter Tuning**\n",
    "- **Prediction and Evaluation**\n",
    "- **Acknowledgements**\n",
    "- **References**"
   ]
  },
  {
   "cell_type": "code",
   "execution_count": 1,
   "id": "58d9e6e8",
   "metadata": {
    "execution": {
     "iopub.execute_input": "2024-02-13T08:53:10.013730Z",
     "iopub.status.busy": "2024-02-13T08:53:10.013267Z",
     "iopub.status.idle": "2024-02-13T08:53:45.175731Z",
     "shell.execute_reply": "2024-02-13T08:53:45.174144Z"
    },
    "papermill": {
     "duration": 35.18831,
     "end_time": "2024-02-13T08:53:45.178915",
     "exception": false,
     "start_time": "2024-02-13T08:53:09.990605",
     "status": "completed"
    },
    "tags": []
   },
   "outputs": [],
   "source": [
    "%%capture\n",
    "# Importing libraries\n",
    "import time, psutil, os, math, random\n",
    "import numpy as np\n",
    "import pandas as pd\n",
    "import matplotlib.pyplot as plt\n",
    "import seaborn as sns\n",
    "sns.set_theme()\n",
    "\n",
    "from sklearn import metrics\n",
    "from sklearn.metrics import accuracy_score\n",
    "from sklearn.model_selection import train_test_split, GridSearchCV\n",
    "\n",
    "import tensorflow as tf\n",
    "from keras.models import Sequential\n",
    "from keras.layers import Dense, Activation\n",
    "from keras.callbacks import EarlyStopping, LearningRateScheduler, ModelCheckpoint\n",
    "\n",
    "!pip install scikeras\n",
    "from scikeras.wrappers import KerasClassifier"
   ]
  },
  {
   "cell_type": "markdown",
   "id": "0ed59751",
   "metadata": {
    "papermill": {
     "duration": 0.020077,
     "end_time": "2024-02-13T08:53:45.219167",
     "exception": false,
     "start_time": "2024-02-13T08:53:45.199090",
     "status": "completed"
    },
    "tags": []
   },
   "source": [
    "To make the results reproducible, we fix the random seeds. Also, we set `random_state = 0` in both `train_test_split` and `KerasClassifier` at later stages of the notebook."
   ]
  },
  {
   "cell_type": "code",
   "execution_count": 2,
   "id": "f3e59ff9",
   "metadata": {
    "execution": {
     "iopub.execute_input": "2024-02-13T08:53:45.263022Z",
     "iopub.status.busy": "2024-02-13T08:53:45.260973Z",
     "iopub.status.idle": "2024-02-13T08:53:45.268957Z",
     "shell.execute_reply": "2024-02-13T08:53:45.267826Z"
    },
    "papermill": {
     "duration": 0.03244,
     "end_time": "2024-02-13T08:53:45.271454",
     "exception": false,
     "start_time": "2024-02-13T08:53:45.239014",
     "status": "completed"
    },
    "tags": []
   },
   "outputs": [],
   "source": [
    "# Setting random seeds\n",
    "os.environ['PYTHONHASHSEED'] = '0'\n",
    "random.seed(0)\n",
    "np.random.seed(0)\n",
    "tf.random.set_seed(0)"
   ]
  },
  {
   "cell_type": "code",
   "execution_count": 3,
   "id": "24d83c51",
   "metadata": {
    "execution": {
     "iopub.execute_input": "2024-02-13T08:53:45.313579Z",
     "iopub.status.busy": "2024-02-13T08:53:45.313138Z",
     "iopub.status.idle": "2024-02-13T08:53:45.319377Z",
     "shell.execute_reply": "2024-02-13T08:53:45.318136Z"
    },
    "papermill": {
     "duration": 0.030871,
     "end_time": "2024-02-13T08:53:45.321977",
     "exception": false,
     "start_time": "2024-02-13T08:53:45.291106",
     "status": "completed"
    },
    "tags": []
   },
   "outputs": [],
   "source": [
    "# Recording the starting time, complemented with a stopping time check in the end to compute process runtime\n",
    "start = time.time()\n",
    "\n",
    "# Class representing the OS process and having memory_info() method to compute process memory usage\n",
    "process = psutil.Process(os.getpid())"
   ]
  },
  {
   "cell_type": "markdown",
   "id": "a379bc25",
   "metadata": {
    "papermill": {
     "duration": 0.019656,
     "end_time": "2024-02-13T08:53:45.361691",
     "exception": false,
     "start_time": "2024-02-13T08:53:45.342035",
     "status": "completed"
    },
    "tags": []
   },
   "source": [
    "# 1. Data"
   ]
  },
  {
   "cell_type": "markdown",
   "id": "afc01fa9",
   "metadata": {
    "papermill": {
     "duration": 0.022098,
     "end_time": "2024-02-13T08:53:45.403312",
     "exception": false,
     "start_time": "2024-02-13T08:53:45.381214",
     "status": "completed"
    },
    "tags": []
   },
   "source": [
    "Source: **training.csv** from **https://www.kaggle.com/competitions/higgs-boson/data**\n",
    "\n",
    "The dataset contains $250000$ observations. It has $30$ **feature variables**, along with **EventId**, **Weight** and **Label**."
   ]
  },
  {
   "cell_type": "code",
   "execution_count": 4,
   "id": "eb7b62c9",
   "metadata": {
    "execution": {
     "iopub.execute_input": "2024-02-13T08:53:45.447085Z",
     "iopub.status.busy": "2024-02-13T08:53:45.445624Z",
     "iopub.status.idle": "2024-02-13T08:53:47.966035Z",
     "shell.execute_reply": "2024-02-13T08:53:47.964671Z"
    },
    "papermill": {
     "duration": 2.545237,
     "end_time": "2024-02-13T08:53:47.969364",
     "exception": false,
     "start_time": "2024-02-13T08:53:45.424127",
     "status": "completed"
    },
    "tags": []
   },
   "outputs": [
    {
     "name": "stdout",
     "output_type": "stream",
     "text": [
      "Memory usage         62.94 MB\n",
      "Dataset shape    (250000, 33)\n"
     ]
    },
    {
     "data": {
      "text/html": [
       "<div>\n",
       "<style scoped>\n",
       "    .dataframe tbody tr th:only-of-type {\n",
       "        vertical-align: middle;\n",
       "    }\n",
       "\n",
       "    .dataframe tbody tr th {\n",
       "        vertical-align: top;\n",
       "    }\n",
       "\n",
       "    .dataframe thead th {\n",
       "        text-align: right;\n",
       "    }\n",
       "</style>\n",
       "<table border=\"1\" class=\"dataframe\">\n",
       "  <thead>\n",
       "    <tr style=\"text-align: right;\">\n",
       "      <th></th>\n",
       "      <th>EventId</th>\n",
       "      <th>DER_mass_MMC</th>\n",
       "      <th>DER_mass_transverse_met_lep</th>\n",
       "      <th>DER_mass_vis</th>\n",
       "      <th>DER_pt_h</th>\n",
       "      <th>DER_deltaeta_jet_jet</th>\n",
       "      <th>DER_mass_jet_jet</th>\n",
       "      <th>DER_prodeta_jet_jet</th>\n",
       "      <th>DER_deltar_tau_lep</th>\n",
       "      <th>DER_pt_tot</th>\n",
       "      <th>...</th>\n",
       "      <th>PRI_jet_num</th>\n",
       "      <th>PRI_jet_leading_pt</th>\n",
       "      <th>PRI_jet_leading_eta</th>\n",
       "      <th>PRI_jet_leading_phi</th>\n",
       "      <th>PRI_jet_subleading_pt</th>\n",
       "      <th>PRI_jet_subleading_eta</th>\n",
       "      <th>PRI_jet_subleading_phi</th>\n",
       "      <th>PRI_jet_all_pt</th>\n",
       "      <th>Weight</th>\n",
       "      <th>Label</th>\n",
       "    </tr>\n",
       "  </thead>\n",
       "  <tbody>\n",
       "    <tr>\n",
       "      <th>0</th>\n",
       "      <td>100000</td>\n",
       "      <td>138.470</td>\n",
       "      <td>51.655</td>\n",
       "      <td>97.827</td>\n",
       "      <td>27.980</td>\n",
       "      <td>0.91</td>\n",
       "      <td>124.711</td>\n",
       "      <td>2.666</td>\n",
       "      <td>3.064</td>\n",
       "      <td>41.928</td>\n",
       "      <td>...</td>\n",
       "      <td>2</td>\n",
       "      <td>67.435</td>\n",
       "      <td>2.150</td>\n",
       "      <td>0.444</td>\n",
       "      <td>46.062</td>\n",
       "      <td>1.24</td>\n",
       "      <td>-2.475</td>\n",
       "      <td>113.497</td>\n",
       "      <td>0.002653</td>\n",
       "      <td>s</td>\n",
       "    </tr>\n",
       "    <tr>\n",
       "      <th>1</th>\n",
       "      <td>100001</td>\n",
       "      <td>160.937</td>\n",
       "      <td>68.768</td>\n",
       "      <td>103.235</td>\n",
       "      <td>48.146</td>\n",
       "      <td>-999.00</td>\n",
       "      <td>-999.000</td>\n",
       "      <td>-999.000</td>\n",
       "      <td>3.473</td>\n",
       "      <td>2.078</td>\n",
       "      <td>...</td>\n",
       "      <td>1</td>\n",
       "      <td>46.226</td>\n",
       "      <td>0.725</td>\n",
       "      <td>1.158</td>\n",
       "      <td>-999.000</td>\n",
       "      <td>-999.00</td>\n",
       "      <td>-999.000</td>\n",
       "      <td>46.226</td>\n",
       "      <td>2.233584</td>\n",
       "      <td>b</td>\n",
       "    </tr>\n",
       "    <tr>\n",
       "      <th>2</th>\n",
       "      <td>100002</td>\n",
       "      <td>-999.000</td>\n",
       "      <td>162.172</td>\n",
       "      <td>125.953</td>\n",
       "      <td>35.635</td>\n",
       "      <td>-999.00</td>\n",
       "      <td>-999.000</td>\n",
       "      <td>-999.000</td>\n",
       "      <td>3.148</td>\n",
       "      <td>9.336</td>\n",
       "      <td>...</td>\n",
       "      <td>1</td>\n",
       "      <td>44.251</td>\n",
       "      <td>2.053</td>\n",
       "      <td>-2.028</td>\n",
       "      <td>-999.000</td>\n",
       "      <td>-999.00</td>\n",
       "      <td>-999.000</td>\n",
       "      <td>44.251</td>\n",
       "      <td>2.347389</td>\n",
       "      <td>b</td>\n",
       "    </tr>\n",
       "    <tr>\n",
       "      <th>3</th>\n",
       "      <td>100003</td>\n",
       "      <td>143.905</td>\n",
       "      <td>81.417</td>\n",
       "      <td>80.943</td>\n",
       "      <td>0.414</td>\n",
       "      <td>-999.00</td>\n",
       "      <td>-999.000</td>\n",
       "      <td>-999.000</td>\n",
       "      <td>3.310</td>\n",
       "      <td>0.414</td>\n",
       "      <td>...</td>\n",
       "      <td>0</td>\n",
       "      <td>-999.000</td>\n",
       "      <td>-999.000</td>\n",
       "      <td>-999.000</td>\n",
       "      <td>-999.000</td>\n",
       "      <td>-999.00</td>\n",
       "      <td>-999.000</td>\n",
       "      <td>-0.000</td>\n",
       "      <td>5.446378</td>\n",
       "      <td>b</td>\n",
       "    </tr>\n",
       "    <tr>\n",
       "      <th>4</th>\n",
       "      <td>100004</td>\n",
       "      <td>175.864</td>\n",
       "      <td>16.915</td>\n",
       "      <td>134.805</td>\n",
       "      <td>16.405</td>\n",
       "      <td>-999.00</td>\n",
       "      <td>-999.000</td>\n",
       "      <td>-999.000</td>\n",
       "      <td>3.891</td>\n",
       "      <td>16.405</td>\n",
       "      <td>...</td>\n",
       "      <td>0</td>\n",
       "      <td>-999.000</td>\n",
       "      <td>-999.000</td>\n",
       "      <td>-999.000</td>\n",
       "      <td>-999.000</td>\n",
       "      <td>-999.00</td>\n",
       "      <td>-999.000</td>\n",
       "      <td>0.000</td>\n",
       "      <td>6.245333</td>\n",
       "      <td>b</td>\n",
       "    </tr>\n",
       "  </tbody>\n",
       "</table>\n",
       "<p>5 rows × 33 columns</p>\n",
       "</div>"
      ],
      "text/plain": [
       "   EventId  DER_mass_MMC  DER_mass_transverse_met_lep  DER_mass_vis  DER_pt_h  \\\n",
       "0   100000       138.470                       51.655        97.827    27.980   \n",
       "1   100001       160.937                       68.768       103.235    48.146   \n",
       "2   100002      -999.000                      162.172       125.953    35.635   \n",
       "3   100003       143.905                       81.417        80.943     0.414   \n",
       "4   100004       175.864                       16.915       134.805    16.405   \n",
       "\n",
       "   DER_deltaeta_jet_jet  DER_mass_jet_jet  DER_prodeta_jet_jet  \\\n",
       "0                  0.91           124.711                2.666   \n",
       "1               -999.00          -999.000             -999.000   \n",
       "2               -999.00          -999.000             -999.000   \n",
       "3               -999.00          -999.000             -999.000   \n",
       "4               -999.00          -999.000             -999.000   \n",
       "\n",
       "   DER_deltar_tau_lep  DER_pt_tot  ...  PRI_jet_num  PRI_jet_leading_pt  \\\n",
       "0               3.064      41.928  ...            2              67.435   \n",
       "1               3.473       2.078  ...            1              46.226   \n",
       "2               3.148       9.336  ...            1              44.251   \n",
       "3               3.310       0.414  ...            0            -999.000   \n",
       "4               3.891      16.405  ...            0            -999.000   \n",
       "\n",
       "   PRI_jet_leading_eta  PRI_jet_leading_phi  PRI_jet_subleading_pt  \\\n",
       "0                2.150                0.444                 46.062   \n",
       "1                0.725                1.158               -999.000   \n",
       "2                2.053               -2.028               -999.000   \n",
       "3             -999.000             -999.000               -999.000   \n",
       "4             -999.000             -999.000               -999.000   \n",
       "\n",
       "   PRI_jet_subleading_eta  PRI_jet_subleading_phi  PRI_jet_all_pt    Weight  \\\n",
       "0                    1.24                  -2.475         113.497  0.002653   \n",
       "1                 -999.00                -999.000          46.226  2.233584   \n",
       "2                 -999.00                -999.000          44.251  2.347389   \n",
       "3                 -999.00                -999.000          -0.000  5.446378   \n",
       "4                 -999.00                -999.000           0.000  6.245333   \n",
       "\n",
       "   Label  \n",
       "0      s  \n",
       "1      b  \n",
       "2      b  \n",
       "3      b  \n",
       "4      b  \n",
       "\n",
       "[5 rows x 33 columns]"
      ]
     },
     "execution_count": 4,
     "metadata": {},
     "output_type": "execute_result"
    }
   ],
   "source": [
    "# Loading the dataset\n",
    "data = pd.read_csv('../input/higgs-boson/training.zip')\n",
    "print(pd.Series({\"Memory usage\": \"{:.2f} MB\".format(data.memory_usage().sum()/(1024*1024)),\n",
    "                 \"Dataset shape\": \"{}\".format(data.shape)}).to_string())\n",
    "data.head()"
   ]
  },
  {
   "cell_type": "code",
   "execution_count": 5,
   "id": "ef90793a",
   "metadata": {
    "execution": {
     "iopub.execute_input": "2024-02-13T08:53:48.095182Z",
     "iopub.status.busy": "2024-02-13T08:53:48.094689Z",
     "iopub.status.idle": "2024-02-13T08:53:48.105555Z",
     "shell.execute_reply": "2024-02-13T08:53:48.104319Z"
    },
    "papermill": {
     "duration": 0.035643,
     "end_time": "2024-02-13T08:53:48.108087",
     "exception": false,
     "start_time": "2024-02-13T08:53:48.072444",
     "status": "completed"
    },
    "tags": []
   },
   "outputs": [
    {
     "data": {
      "text/plain": [
       "EventId                          100000\n",
       "DER_mass_MMC                     138.47\n",
       "DER_mass_transverse_met_lep      51.655\n",
       "DER_mass_vis                     97.827\n",
       "DER_pt_h                          27.98\n",
       "DER_deltaeta_jet_jet               0.91\n",
       "DER_mass_jet_jet                124.711\n",
       "DER_prodeta_jet_jet               2.666\n",
       "DER_deltar_tau_lep                3.064\n",
       "DER_pt_tot                       41.928\n",
       "DER_sum_pt                       197.76\n",
       "DER_pt_ratio_lep_tau              1.582\n",
       "DER_met_phi_centrality            1.396\n",
       "DER_lep_eta_centrality              0.2\n",
       "PRI_tau_pt                       32.638\n",
       "PRI_tau_eta                       1.017\n",
       "PRI_tau_phi                       0.381\n",
       "PRI_lep_pt                       51.626\n",
       "PRI_lep_eta                       2.273\n",
       "PRI_lep_phi                      -2.414\n",
       "PRI_met                          16.824\n",
       "PRI_met_phi                      -0.277\n",
       "PRI_met_sumet                   258.733\n",
       "PRI_jet_num                           2\n",
       "PRI_jet_leading_pt               67.435\n",
       "PRI_jet_leading_eta                2.15\n",
       "PRI_jet_leading_phi               0.444\n",
       "PRI_jet_subleading_pt            46.062\n",
       "PRI_jet_subleading_eta             1.24\n",
       "PRI_jet_subleading_phi           -2.475\n",
       "PRI_jet_all_pt                  113.497\n",
       "Weight                         0.002653\n",
       "Label                                 s\n",
       "Name: 0, dtype: object"
      ]
     },
     "execution_count": 5,
     "metadata": {},
     "output_type": "execute_result"
    }
   ],
   "source": [
    "# A typical observation from the dataset\n",
    "data.loc[data.index[0]]"
   ]
  },
  {
   "cell_type": "markdown",
   "id": "aecbdc42",
   "metadata": {
    "papermill": {
     "duration": 0.020592,
     "end_time": "2024-02-13T08:53:48.149346",
     "exception": false,
     "start_time": "2024-02-13T08:53:48.128754",
     "status": "completed"
    },
    "tags": []
   },
   "source": [
    "**Dataset synopsis:**\n",
    "\n",
    "- Number of observations: $250000$\n",
    "- Number of columns: $33$\n",
    "- Number of integer columns: $2$\n",
    "- Number of float columns: $30$\n",
    "- Number of object columns: $1$\n",
    "- Number of duplicate observations: $0$\n",
    "- Constant columns: None\n",
    "- Number of columns with missing values: $0$\n",
    "- Memory Usage: $62.94$ MB"
   ]
  },
  {
   "cell_type": "markdown",
   "id": "0f335d5b",
   "metadata": {
    "papermill": {
     "duration": 0.020701,
     "end_time": "2024-02-13T08:53:48.190792",
     "exception": false,
     "start_time": "2024-02-13T08:53:48.170091",
     "status": "completed"
    },
    "tags": []
   },
   "source": [
    "The target `Label` is a binary variable, taking values `b` and `s`, indicating the status of an event.\n",
    "\\begin{align*}\n",
    "&\\text{b} \\,\\,\\mapsto \\text{background event}\\\\\n",
    "&\\text{s} \\,\\,\\mapsto \\text{signal event}\n",
    "\\end{align*}"
   ]
  },
  {
   "cell_type": "code",
   "execution_count": 6,
   "id": "709b0773",
   "metadata": {
    "execution": {
     "iopub.execute_input": "2024-02-13T08:53:48.235391Z",
     "iopub.status.busy": "2024-02-13T08:53:48.234899Z",
     "iopub.status.idle": "2024-02-13T08:53:48.650835Z",
     "shell.execute_reply": "2024-02-13T08:53:48.649628Z"
    },
    "papermill": {
     "duration": 0.442477,
     "end_time": "2024-02-13T08:53:48.654773",
     "exception": false,
     "start_time": "2024-02-13T08:53:48.212296",
     "status": "completed"
    },
    "tags": []
   },
   "outputs": [
    {
     "data": {
      "image/png": "[encoded data removed]",
      "text/plain": [
       "<Figure size 600x400 with 1 Axes>"
      ]
     },
     "metadata": {},
     "output_type": "display_data"
    }
   ],
   "source": [
    "# Frequency comparison of labels\n",
    "plt.figure(figsize = (6, 4))\n",
    "ax = plt.subplot(1, 1, 1)\n",
    "label_dict = {'b': 'Background', 's': 'Signal'}\n",
    "plt.pie(\n",
    "    data['Label'].replace(label_dict, inplace = False).value_counts(),\n",
    "    labels = data['Label'].replace(label_dict, inplace = False).value_counts().index,\n",
    "    autopct = '%1.2f%%',\n",
    "    pctdistance = 0.8,\n",
    "    shadow = False,\n",
    "    radius = 1.3,\n",
    "    textprops = {'fontsize' : 10}\n",
    ")\n",
    "circle = plt.Circle((0, 0), 0.6, fc = 'white')\n",
    "fig = plt.gcf()\n",
    "fig.gca().add_artist(circle)\n",
    "ax.text(-0.21, -0.025, 'Events', fontsize = 12)\n",
    "ax.set_xlabel('')\n",
    "# plt.suptitle(\"Frequency comparison of labels\", fontsize = 12)\n",
    "plt.subplots_adjust(wspace = 0.4)\n",
    "plt.show()"
   ]
  },
  {
   "cell_type": "markdown",
   "id": "a2eb6c42",
   "metadata": {
    "papermill": {
     "duration": 0.021095,
     "end_time": "2024-02-13T08:53:48.719757",
     "exception": false,
     "start_time": "2024-02-13T08:53:48.698662",
     "status": "completed"
    },
    "tags": []
   },
   "source": [
    "# 2. Evaluation Metric"
   ]
  },
  {
   "cell_type": "markdown",
   "id": "0e355319",
   "metadata": {
    "papermill": {
     "duration": 0.020951,
     "end_time": "2024-02-13T08:53:48.762112",
     "exception": false,
     "start_time": "2024-02-13T08:53:48.741161",
     "status": "completed"
    },
    "tags": []
   },
   "source": [
    "The [**evaluation metric**](https://en.wikipedia.org/wiki/Evaluation_of_binary_classifiers), used in this project, is the **approximate median significance** (AMS), given by\n",
    "\n",
    "$$ AMS := \\sqrt{2\\left(\\left(s+b+b_r\\right)\\log{\\left(1+\\frac{s}{b+b_r}\\right)}-s\\right)}, \\tag{1}$$\n",
    "\n",
    "where\n",
    "- $s:$ unnormalized [**true positive rate**](https://en.wikipedia.org/wiki/Sensitivity_and_specificity),\n",
    "- $b:$ unnormalized [**false positive rate**](https://en.wikipedia.org/wiki/False_positive_rate),\n",
    "- $b_r = 10:$ constant regularization term,\n",
    "- $\\log:$ [**natural logarithm**](https://en.wikipedia.org/wiki/Natural_logarithm).\n",
    "\n",
    "Precisely, let $(y_1, \\ldots, y_n) \\in \\{\\text{b},\\text{s}\\}^n$ be the vector of true test labels ($\\text{b}$ indicating background event and $\\text{s}$ indicating signal event) and let $(\\hat{y}_1, \\ldots, \\hat{y}_n) \\in \\{\\text{b},\\text{s}\\}^n$ be the vector of predicted test labels. Also let $(w_1, \\ldots, w_n) \\in {\\mathbb{R}^+}^n$ be the vector of weights, where $\\mathbb{R}^+$ denotes the set of positive real numbers. Then\n",
    "\n",
    "$$ s = \\sum_{i=1}^n w_i \\mathbb{1}\\left\\{y_i = s\\right\\} \\mathbb{1}\\left\\{\\hat{y_i} = s\\right\\} \\tag{2}$$\n",
    "\n",
    "and\n",
    "\n",
    "$$ b = \\sum_{i=1}^n w_i \\mathbb{1}\\left\\{y_i = b\\right\\} \\mathbb{1}\\left\\{\\hat{y_i} = s\\right\\}, \\tag{3}$$\n",
    "\n",
    "where the [**indicator function**](https://en.wikipedia.org/wiki/Indicator_function) $\\mathbb{1}\\left\\{S\\right\\}$ is $1$ if $S$ is true and $0$ otherwise."
   ]
  },
  {
   "cell_type": "code",
   "execution_count": 7,
   "id": "8bb35dc6",
   "metadata": {
    "execution": {
     "iopub.execute_input": "2024-02-13T08:53:48.806894Z",
     "iopub.status.busy": "2024-02-13T08:53:48.806444Z",
     "iopub.status.idle": "2024-02-13T08:53:48.816022Z",
     "shell.execute_reply": "2024-02-13T08:53:48.814537Z"
    },
    "papermill": {
     "duration": 0.035374,
     "end_time": "2024-02-13T08:53:48.818747",
     "exception": false,
     "start_time": "2024-02-13T08:53:48.783373",
     "status": "completed"
    },
    "tags": []
   },
   "outputs": [],
   "source": [
    "# Function to compute s and b\n",
    "def compute_s_b(y_true, y_pred, weight):\n",
    "    \"\"\"\n",
    "    Computes unnormalized true positive rate (s) and unnormalized false positive rate (b)\n",
    "    Args:\n",
    "        y_true (array_like, shape (m, )): Array of 0/1 encoded true labels\n",
    "        y_pred (array_like, shape (m, )): Array of 0/1 encoded predicted labels\n",
    "        weight (array_like, shape (m, )): Array of float weights\n",
    "            \n",
    "    Returns:\n",
    "        s (scalar): Unnormalized true positive rate, given in (2)\n",
    "        b (scalar): Unnormalized false positive rate, given in (2)\n",
    "    \"\"\"\n",
    "    assert len(y_true) == len(y_pred) == len(weight), \"Lengths of the arguments do not match\"\n",
    "    s, b = 0, 0\n",
    "    for i in range(len(y_true)):\n",
    "        if y_true[i] == 1 and y_pred[i] == 1:\n",
    "            s += weight[i]\n",
    "        if y_true[i] == 0 and y_pred[i] == 1:\n",
    "            b += weight[i]\n",
    "    return s, b"
   ]
  },
  {
   "cell_type": "code",
   "execution_count": 8,
   "id": "ab95f6d5",
   "metadata": {
    "execution": {
     "iopub.execute_input": "2024-02-13T08:53:48.863549Z",
     "iopub.status.busy": "2024-02-13T08:53:48.863098Z",
     "iopub.status.idle": "2024-02-13T08:53:48.871095Z",
     "shell.execute_reply": "2024-02-13T08:53:48.869623Z"
    },
    "papermill": {
     "duration": 0.033624,
     "end_time": "2024-02-13T08:53:48.873864",
     "exception": false,
     "start_time": "2024-02-13T08:53:48.840240",
     "status": "completed"
    },
    "tags": []
   },
   "outputs": [],
   "source": [
    "# Function to compute AMS\n",
    "def compute_ams(y_true, y_pred, weight):\n",
    "    \"\"\"\n",
    "    Computes approximate median significance (ams)\n",
    "    Args:\n",
    "        y_true (array_like, shape (m, )): Array of 0/1 encoded true labels\n",
    "        y_pred (array_like, shape (m, )): Array of 0/1 encoded predicted labels\n",
    "        weight (array_like, shape (m, )): Array of float weights\n",
    "            \n",
    "    Returns:\n",
    "        ams (scalar): Approximate median significance, given in (1)\n",
    "    \"\"\"\n",
    "    assert len(y_true) == len(y_pred) == len(weight), \"Lengths of the arguments do not match\"\n",
    "    s, b = compute_s_b(y_true, y_pred, weight)\n",
    "    b_r = 10\n",
    "    ams = np.sqrt(2 * ((s + b + b_r) * np.log(1 + (s / (b + b_r))) - s))\n",
    "    return ams"
   ]
  },
  {
   "cell_type": "code",
   "execution_count": 9,
   "id": "843b10f0",
   "metadata": {
    "execution": {
     "iopub.execute_input": "2024-02-13T08:53:48.919753Z",
     "iopub.status.busy": "2024-02-13T08:53:48.918322Z",
     "iopub.status.idle": "2024-02-13T08:53:48.927889Z",
     "shell.execute_reply": "2024-02-13T08:53:48.926114Z"
    },
    "papermill": {
     "duration": 0.035326,
     "end_time": "2024-02-13T08:53:48.930621",
     "exception": false,
     "start_time": "2024-02-13T08:53:48.895295",
     "status": "completed"
    },
    "tags": []
   },
   "outputs": [
    {
     "name": "stdout",
     "output_type": "stream",
     "text": [
      "True labels     : [1, 1, 0]\n",
      "Predicted labels: [1, 0, 0]\n",
      "Weights         : [1.5, 0.5, 2.5]\n",
      "AMS             : 0.463168\n"
     ]
    }
   ],
   "source": [
    "# Example\n",
    "y_true_, y_pred_, weight_ = [1, 1, 0], [1, 0, 0], [1.5, 0.5, 2.5]\n",
    "print(f\"True labels     : {y_true_}\")\n",
    "print(f\"Predicted labels: {y_pred_}\")\n",
    "print(f\"Weights         : {weight_}\")\n",
    "print(f\"AMS             : {round(compute_ams(y_true_, y_pred_, weight_), 6)}\")"
   ]
  },
  {
   "cell_type": "markdown",
   "id": "aecb4017",
   "metadata": {
    "papermill": {
     "duration": 0.021048,
     "end_time": "2024-02-13T08:53:48.973345",
     "exception": false,
     "start_time": "2024-02-13T08:53:48.952297",
     "status": "completed"
    },
    "tags": []
   },
   "source": [
    "# 3. Train-Test Split\n",
    "\n",
    "We [**split the data**](https://scikit-learn.org/stable/modules/generated/sklearn.model_selection.train_test_split.html) in $80:20$ ratio (the [**training set**](https://en.wikipedia.org/wiki/Training,_validation,_and_test_data_sets#Training_data_set) consisting of $80\\%$ data, and the [**test set**](https://en.wikipedia.org/wiki/Training,_validation,_and_test_data_sets#Test_data_set) consisting of the rest). We [**stratify**](https://en.wikipedia.org/wiki/Stratified_sampling) the split using the labels, so that the proportion of each label remains roughly the same in the training set and the test set."
   ]
  },
  {
   "cell_type": "code",
   "execution_count": 10,
   "id": "843d2902",
   "metadata": {
    "execution": {
     "iopub.execute_input": "2024-02-13T08:53:49.019011Z",
     "iopub.status.busy": "2024-02-13T08:53:49.018538Z",
     "iopub.status.idle": "2024-02-13T08:53:49.633850Z",
     "shell.execute_reply": "2024-02-13T08:53:49.632577Z"
    },
    "papermill": {
     "duration": 0.642041,
     "end_time": "2024-02-13T08:53:49.636776",
     "exception": false,
     "start_time": "2024-02-13T08:53:48.994735",
     "status": "completed"
    },
    "tags": []
   },
   "outputs": [],
   "source": [
    "# Train-test split\n",
    "X, y = data.drop(['Label'], axis = 1), data['Label']\n",
    "X_train_, X_test_, y_train_, y_test_ = train_test_split(X, y, \n",
    "                                                        stratify = y, \n",
    "                                                        random_state = 0, \n",
    "                                                        test_size = 0.2, \n",
    "                                                        shuffle = True)\n",
    "df_train = pd.concat([X_train_, y_train_], axis = 1)\n",
    "df_test = pd.concat([X_test_, y_test_], axis = 1)"
   ]
  },
  {
   "cell_type": "markdown",
   "id": "3331307b",
   "metadata": {
    "papermill": {
     "duration": 0.022884,
     "end_time": "2024-02-13T08:53:49.685724",
     "exception": false,
     "start_time": "2024-02-13T08:53:49.662840",
     "status": "completed"
    },
    "tags": []
   },
   "source": [
    "# 4. Preprocessing"
   ]
  },
  {
   "cell_type": "markdown",
   "id": "bf621771",
   "metadata": {
    "papermill": {
     "duration": 0.021492,
     "end_time": "2024-02-13T08:53:49.728844",
     "exception": false,
     "start_time": "2024-02-13T08:53:49.707352",
     "status": "completed"
    },
    "tags": []
   },
   "source": [
    "We observe that the labels are [**nominal**](https://en.wikipedia.org/wiki/Nominal_category) in nature, i.e. they do not have an inherent [**order**](https://en.wikipedia.org/wiki/Order_theory). To encode the labels, we use a dictionary to map them to integer values in the following way: $\\text{b} \\mapsto 0$ and $\\text{s} \\mapsto 1$."
   ]
  },
  {
   "cell_type": "code",
   "execution_count": 11,
   "id": "4ce48bd0",
   "metadata": {
    "execution": {
     "iopub.execute_input": "2024-02-13T08:53:49.774532Z",
     "iopub.status.busy": "2024-02-13T08:53:49.773492Z",
     "iopub.status.idle": "2024-02-13T08:53:49.971705Z",
     "shell.execute_reply": "2024-02-13T08:53:49.970507Z"
    },
    "papermill": {
     "duration": 0.224175,
     "end_time": "2024-02-13T08:53:49.974694",
     "exception": false,
     "start_time": "2024-02-13T08:53:49.750519",
     "status": "completed"
    },
    "tags": []
   },
   "outputs": [],
   "source": [
    "# Manual encoding of labels\n",
    "label_dict_encoding = {'b': 0, 's': 1}\n",
    "df_train['Label'].replace(label_dict_encoding, inplace = True)\n",
    "df_test['Label'].replace(label_dict_encoding, inplace = True)"
   ]
  },
  {
   "cell_type": "code",
   "execution_count": 12,
   "id": "91a88bd5",
   "metadata": {
    "execution": {
     "iopub.execute_input": "2024-02-13T08:53:50.020258Z",
     "iopub.status.busy": "2024-02-13T08:53:50.019496Z",
     "iopub.status.idle": "2024-02-13T08:53:50.070475Z",
     "shell.execute_reply": "2024-02-13T08:53:50.069030Z"
    },
    "papermill": {
     "duration": 0.076682,
     "end_time": "2024-02-13T08:53:50.073161",
     "exception": false,
     "start_time": "2024-02-13T08:53:49.996479",
     "status": "completed"
    },
    "tags": []
   },
   "outputs": [],
   "source": [
    "# Dropping the 'EventID' column\n",
    "df_train.drop('EventId', axis = 1, inplace = True)\n",
    "df_test.drop('EventId', axis = 1, inplace = True)"
   ]
  },
  {
   "cell_type": "markdown",
   "id": "1f4c8a09",
   "metadata": {
    "papermill": {
     "duration": 0.021673,
     "end_time": "2024-02-13T08:53:50.116384",
     "exception": false,
     "start_time": "2024-02-13T08:53:50.094711",
     "status": "completed"
    },
    "tags": []
   },
   "source": [
    "We observe that $11$ columns in the dataset contains the value $-999$, which is very different from the other values taken by the respective features. We suspect that these are missing values filled in by a constant of arbitrary choice and drop these columns from the dataset."
   ]
  },
  {
   "cell_type": "code",
   "execution_count": 13,
   "id": "6fc31cf6",
   "metadata": {
    "execution": {
     "iopub.execute_input": "2024-02-13T08:53:50.161479Z",
     "iopub.status.busy": "2024-02-13T08:53:50.161000Z",
     "iopub.status.idle": "2024-02-13T08:53:51.101794Z",
     "shell.execute_reply": "2024-02-13T08:53:51.100602Z"
    },
    "papermill": {
     "duration": 0.966693,
     "end_time": "2024-02-13T08:53:51.104450",
     "exception": false,
     "start_time": "2024-02-13T08:53:50.137757",
     "status": "completed"
    },
    "tags": []
   },
   "outputs": [
    {
     "data": {
      "text/html": [
       "<style type=\"text/css\">\n",
       "</style>\n",
       "<table id=\"T_70cfa\">\n",
       "  <caption>Proportion of the value -999 in the dataset columns which contain -999</caption>\n",
       "  <thead>\n",
       "    <tr>\n",
       "      <th class=\"blank level0\" >&nbsp;</th>\n",
       "      <th id=\"T_70cfa_level0_col0\" class=\"col_heading level0 col0\" >Training set</th>\n",
       "      <th id=\"T_70cfa_level0_col1\" class=\"col_heading level0 col1\" >Test set</th>\n",
       "    </tr>\n",
       "  </thead>\n",
       "  <tbody>\n",
       "    <tr>\n",
       "      <th id=\"T_70cfa_level0_row0\" class=\"row_heading level0 row0\" >DER_mass_MMC</th>\n",
       "      <td id=\"T_70cfa_row0_col0\" class=\"data row0 col0\" >0.152575</td>\n",
       "      <td id=\"T_70cfa_row0_col1\" class=\"data row0 col1\" >0.151980</td>\n",
       "    </tr>\n",
       "    <tr>\n",
       "      <th id=\"T_70cfa_level0_row1\" class=\"row_heading level0 row1\" >DER_deltaeta_jet_jet</th>\n",
       "      <td id=\"T_70cfa_row1_col0\" class=\"data row1 col0\" >0.710490</td>\n",
       "      <td id=\"T_70cfa_row1_col1\" class=\"data row1 col1\" >0.707180</td>\n",
       "    </tr>\n",
       "    <tr>\n",
       "      <th id=\"T_70cfa_level0_row2\" class=\"row_heading level0 row2\" >DER_mass_jet_jet</th>\n",
       "      <td id=\"T_70cfa_row2_col0\" class=\"data row2 col0\" >0.710490</td>\n",
       "      <td id=\"T_70cfa_row2_col1\" class=\"data row2 col1\" >0.707180</td>\n",
       "    </tr>\n",
       "    <tr>\n",
       "      <th id=\"T_70cfa_level0_row3\" class=\"row_heading level0 row3\" >DER_prodeta_jet_jet</th>\n",
       "      <td id=\"T_70cfa_row3_col0\" class=\"data row3 col0\" >0.710490</td>\n",
       "      <td id=\"T_70cfa_row3_col1\" class=\"data row3 col1\" >0.707180</td>\n",
       "    </tr>\n",
       "    <tr>\n",
       "      <th id=\"T_70cfa_level0_row4\" class=\"row_heading level0 row4\" >DER_lep_eta_centrality</th>\n",
       "      <td id=\"T_70cfa_row4_col0\" class=\"data row4 col0\" >0.710490</td>\n",
       "      <td id=\"T_70cfa_row4_col1\" class=\"data row4 col1\" >0.707180</td>\n",
       "    </tr>\n",
       "    <tr>\n",
       "      <th id=\"T_70cfa_level0_row5\" class=\"row_heading level0 row5\" >PRI_jet_leading_pt</th>\n",
       "      <td id=\"T_70cfa_row5_col0\" class=\"data row5 col0\" >0.400230</td>\n",
       "      <td id=\"T_70cfa_row5_col1\" class=\"data row5 col1\" >0.397340</td>\n",
       "    </tr>\n",
       "    <tr>\n",
       "      <th id=\"T_70cfa_level0_row6\" class=\"row_heading level0 row6\" >PRI_jet_leading_eta</th>\n",
       "      <td id=\"T_70cfa_row6_col0\" class=\"data row6 col0\" >0.400230</td>\n",
       "      <td id=\"T_70cfa_row6_col1\" class=\"data row6 col1\" >0.397340</td>\n",
       "    </tr>\n",
       "    <tr>\n",
       "      <th id=\"T_70cfa_level0_row7\" class=\"row_heading level0 row7\" >PRI_jet_leading_phi</th>\n",
       "      <td id=\"T_70cfa_row7_col0\" class=\"data row7 col0\" >0.400230</td>\n",
       "      <td id=\"T_70cfa_row7_col1\" class=\"data row7 col1\" >0.397340</td>\n",
       "    </tr>\n",
       "    <tr>\n",
       "      <th id=\"T_70cfa_level0_row8\" class=\"row_heading level0 row8\" >PRI_jet_subleading_pt</th>\n",
       "      <td id=\"T_70cfa_row8_col0\" class=\"data row8 col0\" >0.710490</td>\n",
       "      <td id=\"T_70cfa_row8_col1\" class=\"data row8 col1\" >0.707180</td>\n",
       "    </tr>\n",
       "    <tr>\n",
       "      <th id=\"T_70cfa_level0_row9\" class=\"row_heading level0 row9\" >PRI_jet_subleading_eta</th>\n",
       "      <td id=\"T_70cfa_row9_col0\" class=\"data row9 col0\" >0.710490</td>\n",
       "      <td id=\"T_70cfa_row9_col1\" class=\"data row9 col1\" >0.707180</td>\n",
       "    </tr>\n",
       "    <tr>\n",
       "      <th id=\"T_70cfa_level0_row10\" class=\"row_heading level0 row10\" >PRI_jet_subleading_phi</th>\n",
       "      <td id=\"T_70cfa_row10_col0\" class=\"data row10 col0\" >0.710490</td>\n",
       "      <td id=\"T_70cfa_row10_col1\" class=\"data row10 col1\" >0.707180</td>\n",
       "    </tr>\n",
       "  </tbody>\n",
       "</table>\n"
      ],
      "text/plain": [
       "<pandas.io.formats.style.Styler at 0x79febf202830>"
      ]
     },
     "execution_count": 13,
     "metadata": {},
     "output_type": "execute_result"
    }
   ],
   "source": [
    "# Proportion of the value -999 in the dataset columns which contains the value -999\n",
    "index_999 = [col for col in data.columns if -999 in data[col].value_counts().index]\n",
    "def minus_999(df):\n",
    "    df_999 = [df[col].value_counts()[-999]/len(df) for col in index_999]\n",
    "    return pd.Series(index = index_999, data = df_999)\n",
    "\n",
    "df_minus_999 = pd.DataFrame()\n",
    "df_minus_999['Training set'] = minus_999(df_train).values\n",
    "df_minus_999['Test set'] = minus_999(df_test).values\n",
    "df_minus_999.set_index(minus_999(df_train).index, inplace = True)\n",
    "df_minus_999.style.set_caption(\"Proportion of the value -999 in the dataset columns which contain -999\")"
   ]
  },
  {
   "cell_type": "code",
   "execution_count": 14,
   "id": "196b1b22",
   "metadata": {
    "execution": {
     "iopub.execute_input": "2024-02-13T08:53:51.151846Z",
     "iopub.status.busy": "2024-02-13T08:53:51.150979Z",
     "iopub.status.idle": "2024-02-13T08:53:51.181725Z",
     "shell.execute_reply": "2024-02-13T08:53:51.180383Z"
    },
    "papermill": {
     "duration": 0.058374,
     "end_time": "2024-02-13T08:53:51.184704",
     "exception": false,
     "start_time": "2024-02-13T08:53:51.126330",
     "status": "completed"
    },
    "tags": []
   },
   "outputs": [],
   "source": [
    "# Dropping columns with the value -999\n",
    "df_train.drop(index_999, axis = 1, inplace = True)\n",
    "df_test.drop(index_999, axis = 1, inplace = True)"
   ]
  },
  {
   "cell_type": "markdown",
   "id": "37611c0a",
   "metadata": {
    "papermill": {
     "duration": 0.023256,
     "end_time": "2024-02-13T08:53:51.232157",
     "exception": false,
     "start_time": "2024-02-13T08:53:51.208901",
     "status": "completed"
    },
    "tags": []
   },
   "source": [
    "Furthermore, we observe in the [**prequel notebook**](https://www.kaggle.com/code/sugataghosh/higgs-boson-event-detection-part-1-eda) that the following groups have shown extremely high positive correlation structure within themselves, i.e. any two features from a single group has extremely high correlation coefficient.\n",
    "\n",
    "- `DER_deltaeta_jet_jet`, `DER_mass_jet_jet`, `DER_prodeta_jet_jet`, `DER_lep_eta_centrality`, `PRI_jet_subleading_pt`, `PRI_jet_subleading_eta`, `PRI_jet_subleading_phi`\n",
    "- `DER_sum_pt`, `PRI_met_sumet`, `PRI_jet_all_pt`\n",
    "- `PRI_jet_leading_pt`, `PRI_jet_leading_eta`, `PRI_jet_leading_phi`\n",
    "\n",
    "The first group and the last group are subsets of the dropped columns and we can explain that the high frequency of the value $-999$ contributes significantly to their extremely high correlation. The middle group of three features, though, does not have the same explanation. We keep one from these columns and drop the other two."
   ]
  },
  {
   "cell_type": "code",
   "execution_count": 15,
   "id": "7cf3b1b3",
   "metadata": {
    "execution": {
     "iopub.execute_input": "2024-02-13T08:53:51.278416Z",
     "iopub.status.busy": "2024-02-13T08:53:51.277595Z",
     "iopub.status.idle": "2024-02-13T08:53:51.304659Z",
     "shell.execute_reply": "2024-02-13T08:53:51.303547Z"
    },
    "papermill": {
     "duration": 0.054098,
     "end_time": "2024-02-13T08:53:51.307836",
     "exception": false,
     "start_time": "2024-02-13T08:53:51.253738",
     "status": "completed"
    },
    "tags": []
   },
   "outputs": [],
   "source": [
    "# Dropping columns due to high correlation\n",
    "df_train.drop(['PRI_met_sumet', 'PRI_jet_all_pt'], axis = 1, inplace = True)\n",
    "df_test.drop(['PRI_met_sumet', 'PRI_jet_all_pt'], axis = 1, inplace = True)"
   ]
  },
  {
   "cell_type": "markdown",
   "id": "2d6e43fa",
   "metadata": {
    "papermill": {
     "duration": 0.025187,
     "end_time": "2024-02-13T08:53:51.354692",
     "exception": false,
     "start_time": "2024-02-13T08:53:51.329505",
     "status": "completed"
    },
    "tags": []
   },
   "source": [
    "# 5. Feature Engineering"
   ]
  },
  {
   "cell_type": "markdown",
   "id": "52ff9db2",
   "metadata": {
    "papermill": {
     "duration": 0.025256,
     "end_time": "2024-02-13T08:53:51.411986",
     "exception": false,
     "start_time": "2024-02-13T08:53:51.386730",
     "status": "completed"
    },
    "tags": []
   },
   "source": [
    "We note the following observations from the prequel notebook.\n",
    "\n",
    "- Columns with extreme skewness (absolute value greater than $3$ in the dataset): `DER_mass_MMC`, `DER_mass_vis`, `DER_pt_tot`, `PRI_tau_pt`, `PRI_lep_pt`, `PRI_met`, `PRI_jet_subleading_pt` \n",
    "- Columns with high skewness (absolute value between $1$ and $3$ in the dataset): `DER_mass_transverse_met_lep`, `DER_pt_h`, `DER_mass_jet_jet`, `DER_sum_pt`, `DER_pt_ratio_lep_tau`, `PRI_met_sumet`, `PRI_jet_leading_pt`, `PRI_jet_all_pt`\n",
    "- Columns with moderate skewness (absolute value between $0.5$ and $1$ in the dataset): `DER_deltaeta_jet_jet`"
   ]
  },
  {
   "cell_type": "code",
   "execution_count": 16,
   "id": "08daae9c",
   "metadata": {
    "execution": {
     "iopub.execute_input": "2024-02-13T08:53:51.463243Z",
     "iopub.status.busy": "2024-02-13T08:53:51.462461Z",
     "iopub.status.idle": "2024-02-13T08:53:51.468202Z",
     "shell.execute_reply": "2024-02-13T08:53:51.467285Z"
    },
    "papermill": {
     "duration": 0.031664,
     "end_time": "2024-02-13T08:53:51.470503",
     "exception": false,
     "start_time": "2024-02-13T08:53:51.438839",
     "status": "completed"
    },
    "tags": []
   },
   "outputs": [],
   "source": [
    "cols_skewed_extreme = [\n",
    "    'DER_mass_MMC', \n",
    "    'DER_mass_vis', \n",
    "    'DER_pt_tot', \n",
    "    'PRI_tau_pt', \n",
    "    'PRI_lep_pt', \n",
    "    'PRI_met', \n",
    "    'PRI_jet_subleading_pt'\n",
    "]\n",
    "\n",
    "cols_skewed_high = [\n",
    "    'DER_mass_transverse_met_lep',\n",
    "    'DER_pt_h',\n",
    "    'DER_mass_jet_jet',\n",
    "    'DER_sum_pt',\n",
    "    'DER_pt_ratio_lep_tau',\n",
    "    'PRI_met_sumet',\n",
    "    'PRI_jet_leading_pt',\n",
    "    'PRI_jet_all_pt'\n",
    "]\n",
    "\n",
    "cols_skewed_moderate = ['DER_deltaeta_jet_jet']"
   ]
  },
  {
   "cell_type": "code",
   "execution_count": 17,
   "id": "69fd34e3",
   "metadata": {
    "execution": {
     "iopub.execute_input": "2024-02-13T08:53:51.516436Z",
     "iopub.status.busy": "2024-02-13T08:53:51.515645Z",
     "iopub.status.idle": "2024-02-13T08:53:51.524013Z",
     "shell.execute_reply": "2024-02-13T08:53:51.522852Z"
    },
    "papermill": {
     "duration": 0.034658,
     "end_time": "2024-02-13T08:53:51.526830",
     "exception": false,
     "start_time": "2024-02-13T08:53:51.492172",
     "status": "completed"
    },
    "tags": []
   },
   "outputs": [],
   "source": [
    "def cols_skewed_selector(mode = 'moderate+'):\n",
    "    \"\"\"\n",
    "    Selects skewed columns to transform\n",
    "    Args:\n",
    "        mode (string): 'extreme', 'high+' or 'moderate+'\n",
    "            Choose 'extreme' to select features with absolute value of skewness greater than 3\n",
    "            Choose 'high+' to select features with absolute value of skewness greater than 1\n",
    "            Choose 'moderate+' to select features with absolute value of skewness greater than 0.5\n",
    "            \n",
    "    Returns:\n",
    "        cols_transform (list): List of columns to be transformed\n",
    "    \"\"\"\n",
    "    if mode == 'extreme':\n",
    "        cols_skewed = cols_skewed_extreme\n",
    "        cols_transform = [col for col in df_train if col in cols_skewed]\n",
    "    elif mode == 'high+':\n",
    "        cols_skewed = cols_skewed_extreme + cols_skewed_high\n",
    "        cols_transform = [col for col in df_train if col in cols_skewed]\n",
    "    else:\n",
    "        cols_skewed = cols_skewed_extreme + cols_skewed_high + cols_skewed_moderate\n",
    "        cols_transform = [col for col in df_train if col in cols_skewed]\n",
    "    return cols_transform"
   ]
  },
  {
   "cell_type": "code",
   "execution_count": 18,
   "id": "7a427289",
   "metadata": {
    "execution": {
     "iopub.execute_input": "2024-02-13T08:53:51.572335Z",
     "iopub.status.busy": "2024-02-13T08:53:51.571869Z",
     "iopub.status.idle": "2024-02-13T08:53:51.580424Z",
     "shell.execute_reply": "2024-02-13T08:53:51.579189Z"
    },
    "papermill": {
     "duration": 0.034932,
     "end_time": "2024-02-13T08:53:51.583490",
     "exception": false,
     "start_time": "2024-02-13T08:53:51.548558",
     "status": "completed"
    },
    "tags": []
   },
   "outputs": [
    {
     "name": "stdout",
     "output_type": "stream",
     "text": [
      "Features to be transformed:\n"
     ]
    },
    {
     "data": {
      "text/plain": [
       "['DER_mass_transverse_met_lep',\n",
       " 'DER_mass_vis',\n",
       " 'DER_pt_h',\n",
       " 'DER_pt_tot',\n",
       " 'DER_sum_pt',\n",
       " 'DER_pt_ratio_lep_tau',\n",
       " 'PRI_tau_pt',\n",
       " 'PRI_lep_pt',\n",
       " 'PRI_met']"
      ]
     },
     "execution_count": 18,
     "metadata": {},
     "output_type": "execute_result"
    }
   ],
   "source": [
    "# Selecting columns to be transformed\n",
    "cols_transform = cols_skewed_selector(mode = 'moderate+')\n",
    "print(\"Features to be transformed:\")\n",
    "cols_transform"
   ]
  },
  {
   "cell_type": "markdown",
   "id": "d2bbe72f",
   "metadata": {
    "papermill": {
     "duration": 0.0216,
     "end_time": "2024-02-13T08:53:51.627025",
     "exception": false,
     "start_time": "2024-02-13T08:53:51.605425",
     "status": "completed"
    },
    "tags": []
   },
   "source": [
    "First we apply location change $x \\mapsto x - \\min(x) + 1$ on the features to be transformed, to make their range start from $1$. The relocated variables fall inside the range $[1, \\infty)$. Now we apply the log transformation $y \\mapsto \\log{y}$. The relocation preceding the log transformation ensures that there are no negative values to be fed to the $\\log$ function. The addition of $1$ ensures that there are no values very close to $0$, which the log transformation maps to extreme negative values. Note that we use the same $\\min(x)$ from the training data in the test data, to keep the transformation same for the two datasets."
   ]
  },
  {
   "cell_type": "code",
   "execution_count": 19,
   "id": "1f2c4137",
   "metadata": {
    "execution": {
     "iopub.execute_input": "2024-02-13T08:53:51.673638Z",
     "iopub.status.busy": "2024-02-13T08:53:51.673188Z",
     "iopub.status.idle": "2024-02-13T08:53:51.681426Z",
     "shell.execute_reply": "2024-02-13T08:53:51.680245Z"
    },
    "papermill": {
     "duration": 0.035137,
     "end_time": "2024-02-13T08:53:51.684464",
     "exception": false,
     "start_time": "2024-02-13T08:53:51.649327",
     "status": "completed"
    },
    "tags": []
   },
   "outputs": [],
   "source": [
    "def log_transform(df_train_in, df_test_in, cols_transform):\n",
    "    \"\"\"\n",
    "    Selects skewed columns to transform\n",
    "    Args:\n",
    "        df_train_in (DataFrame, shape (m1, n)): Input training dataframe\n",
    "        df_test_in (DataFrame, shape (m2, n)) : Input test dataframe\n",
    "        cols_transform (list)                 : List of columns to be transformed\n",
    "            \n",
    "    Returns:\n",
    "        df_train_out (DataFrame, shape (m1, n)): output training dataframe\n",
    "        df_test_out (DataFrame, shape (m2, n)) : output test dataframe\n",
    "    \"\"\"\n",
    "    df_train_out, df_test_out = df_train_in.copy(deep = True), df_test_in.copy(deep = True)\n",
    "    for col in cols_transform:\n",
    "        min_ = df_train_out[col].min()\n",
    "        df_train_out[col] = df_train_out[col] - min_ + 1\n",
    "        df_train_out[col] = np.log(df_train_out[col])\n",
    "        df_test_out[col] = df_test_out[col] - min_ + 1\n",
    "        df_test_out[col] = np.log(df_test_out[col])\n",
    "    return df_train_out, df_test_out"
   ]
  },
  {
   "cell_type": "code",
   "execution_count": 20,
   "id": "227ed6cf",
   "metadata": {
    "execution": {
     "iopub.execute_input": "2024-02-13T08:53:51.732507Z",
     "iopub.status.busy": "2024-02-13T08:53:51.732036Z",
     "iopub.status.idle": "2024-02-13T08:53:51.836874Z",
     "shell.execute_reply": "2024-02-13T08:53:51.835735Z"
    },
    "papermill": {
     "duration": 0.133361,
     "end_time": "2024-02-13T08:53:51.839910",
     "exception": false,
     "start_time": "2024-02-13T08:53:51.706549",
     "status": "completed"
    },
    "tags": []
   },
   "outputs": [],
   "source": [
    "# Modified log transformation of skewed features\n",
    "df_train, df_test = log_transform(df_train, df_test, cols_transform)"
   ]
  },
  {
   "cell_type": "markdown",
   "id": "3956e8c3",
   "metadata": {
    "papermill": {
     "duration": 0.021591,
     "end_time": "2024-02-13T08:53:51.884082",
     "exception": false,
     "start_time": "2024-02-13T08:53:51.862491",
     "status": "completed"
    },
    "tags": []
   },
   "source": [
    "We employ **min-max normalization** on the float columns in both the training set and the validation set. To keep the transformation the same, we use the minimum and maximum values of the training columns only for both sets. Using the minimum and maximum values of the validation columns for both sets would have led to **data leakage**."
   ]
  },
  {
   "cell_type": "code",
   "execution_count": 21,
   "id": "7a9d397d",
   "metadata": {
    "execution": {
     "iopub.execute_input": "2024-02-13T08:53:51.930972Z",
     "iopub.status.busy": "2024-02-13T08:53:51.930520Z",
     "iopub.status.idle": "2024-02-13T08:53:51.939217Z",
     "shell.execute_reply": "2024-02-13T08:53:51.937741Z"
    },
    "papermill": {
     "duration": 0.035313,
     "end_time": "2024-02-13T08:53:51.941866",
     "exception": false,
     "start_time": "2024-02-13T08:53:51.906553",
     "status": "completed"
    },
    "tags": []
   },
   "outputs": [],
   "source": [
    "def minmax_normalizer(df_train_in, df_test_in, cols):\n",
    "    \"\"\"\n",
    "    Selects skewed columns to transform\n",
    "    Args:\n",
    "        df_train_in (DataFrame, shape (m1, n)): input training dataframe\n",
    "        df_test_in (DataFrame, shape (m2, n)) : input test dataframe\n",
    "        cols (list)                           : list of columns to be normalized\n",
    "        \n",
    "    Returns:\n",
    "        df_train_out (DataFrame, shape (m1, n)): output training dataframe\n",
    "        df_test_out (DataFrame, shape (m2, n)) : output test dataframe\n",
    "    \"\"\"\n",
    "    df_train_out, df_test_out = df_train_in.copy(deep = True), df_test_in.copy(deep = True)\n",
    "    for col in cols:\n",
    "        min_, max_ = df_train_out[col].min(), df_train_out[col].max()\n",
    "        df_train_out[col] = (df_train_out[col] - min_) / (max_ - min_)\n",
    "        df_test_out[col] = (df_test_out[col] - min_) / (max_ - min_)\n",
    "    return df_train_out, df_test_out"
   ]
  },
  {
   "cell_type": "code",
   "execution_count": 22,
   "id": "11ae7941",
   "metadata": {
    "execution": {
     "iopub.execute_input": "2024-02-13T08:53:51.989033Z",
     "iopub.status.busy": "2024-02-13T08:53:51.987882Z",
     "iopub.status.idle": "2024-02-13T08:53:52.210271Z",
     "shell.execute_reply": "2024-02-13T08:53:52.209058Z"
    },
    "papermill": {
     "duration": 0.24907,
     "end_time": "2024-02-13T08:53:52.213250",
     "exception": false,
     "start_time": "2024-02-13T08:53:51.964180",
     "status": "completed"
    },
    "tags": []
   },
   "outputs": [],
   "source": [
    "# Min-max normalization of non-constant float columns in the training set and the test set\n",
    "cols_minmax = [col for col in df_train.columns if col not in ['Weight', 'Label']]\n",
    "cols_minmax = [col for col in cols_minmax if df_train[col].dtypes == 'float64']\n",
    "cols_minmax = [col for col in cols_minmax if df_train[col].nunique() > 1]\n",
    "\n",
    "df_train, df_test = minmax_normalizer(df_train, df_test, cols_minmax)"
   ]
  },
  {
   "cell_type": "markdown",
   "id": "1864a01d",
   "metadata": {
    "papermill": {
     "duration": 0.021641,
     "end_time": "2024-02-13T08:53:52.257319",
     "exception": false,
     "start_time": "2024-02-13T08:53:52.235678",
     "status": "completed"
    },
    "tags": []
   },
   "source": [
    "# 6. Baseline Model"
   ]
  },
  {
   "cell_type": "code",
   "execution_count": 23,
   "id": "9c54462a",
   "metadata": {
    "execution": {
     "iopub.execute_input": "2024-02-13T08:53:52.303740Z",
     "iopub.status.busy": "2024-02-13T08:53:52.303302Z",
     "iopub.status.idle": "2024-02-13T08:53:52.330802Z",
     "shell.execute_reply": "2024-02-13T08:53:52.329567Z"
    },
    "papermill": {
     "duration": 0.054039,
     "end_time": "2024-02-13T08:53:52.333683",
     "exception": false,
     "start_time": "2024-02-13T08:53:52.279644",
     "status": "completed"
    },
    "tags": []
   },
   "outputs": [],
   "source": [
    "# Splitting features, weight and label\n",
    "def split_data(df):\n",
    "    return df.drop(['Weight', 'Label'], axis = 1), df['Label'].values, df['Weight'].values\n",
    "\n",
    "X_train, y_train, w_train = split_data(df_train)\n",
    "X_test, y_test, w_test = split_data(df_test)"
   ]
  },
  {
   "cell_type": "code",
   "execution_count": 24,
   "id": "4bffab86",
   "metadata": {
    "execution": {
     "iopub.execute_input": "2024-02-13T08:53:52.381388Z",
     "iopub.status.busy": "2024-02-13T08:53:52.380817Z",
     "iopub.status.idle": "2024-02-13T08:53:52.668818Z",
     "shell.execute_reply": "2024-02-13T08:53:52.667586Z"
    },
    "papermill": {
     "duration": 0.316839,
     "end_time": "2024-02-13T08:53:52.673236",
     "exception": false,
     "start_time": "2024-02-13T08:53:52.356397",
     "status": "completed"
    },
    "tags": []
   },
   "outputs": [
    {
     "name": "stdout",
     "output_type": "stream",
     "text": [
      "Model: \"sequential\"\n",
      "_________________________________________________________________\n",
      " Layer (type)                Output Shape              Param #   \n",
      "=================================================================\n",
      " dense (Dense)               (None, 16)                288       \n",
      "                                                                 \n",
      " dense_1 (Dense)             (None, 8)                 136       \n",
      "                                                                 \n",
      " dense_2 (Dense)             (None, 8)                 72        \n",
      "                                                                 \n",
      " dense_3 (Dense)             (None, 1)                 9         \n",
      "                                                                 \n",
      "=================================================================\n",
      "Total params: 505 (1.97 KB)\n",
      "Trainable params: 505 (1.97 KB)\n",
      "Non-trainable params: 0 (0.00 Byte)\n",
      "_________________________________________________________________\n"
     ]
    }
   ],
   "source": [
    "# Model creation and compilation\n",
    "def createModel(learning_rate = 0.001):\n",
    "    model = Sequential()\n",
    "    model.add(Dense(units = 16, input_dim = len(X_train.columns), activation = 'relu')) \n",
    "    model.add(Dense(units = 8, activation = 'relu')) \n",
    "    model.add(Dense(units = 8, activation = 'relu')) \n",
    "    model.add(Dense(units = 1, activation = 'sigmoid')) \n",
    "    \n",
    "    model.compile(loss = 'binary_crossentropy', \n",
    "                  optimizer = tf.keras.optimizers.Adam(learning_rate = learning_rate), \n",
    "                  metrics = ['accuracy'])\n",
    "    \n",
    "    return model\n",
    "\n",
    "model = createModel()\n",
    "model.summary()"
   ]
  },
  {
   "cell_type": "code",
   "execution_count": 25,
   "id": "d5b6fc56",
   "metadata": {
    "execution": {
     "iopub.execute_input": "2024-02-13T08:53:52.722828Z",
     "iopub.status.busy": "2024-02-13T08:53:52.721881Z",
     "iopub.status.idle": "2024-02-13T08:53:52.728487Z",
     "shell.execute_reply": "2024-02-13T08:53:52.727226Z"
    },
    "papermill": {
     "duration": 0.03435,
     "end_time": "2024-02-13T08:53:52.730902",
     "exception": false,
     "start_time": "2024-02-13T08:53:52.696552",
     "status": "completed"
    },
    "tags": []
   },
   "outputs": [],
   "source": [
    "# Early stopping callback\n",
    "earlystop = EarlyStopping(monitor = 'val_loss', \n",
    "                          min_delta = 0.001, \n",
    "                          patience = 20, \n",
    "                          verbose = 0, \n",
    "                          mode = 'auto',\n",
    "                          start_from_epoch = 60)"
   ]
  },
  {
   "cell_type": "code",
   "execution_count": 26,
   "id": "ddc5de17",
   "metadata": {
    "execution": {
     "iopub.execute_input": "2024-02-13T08:53:52.780015Z",
     "iopub.status.busy": "2024-02-13T08:53:52.779546Z",
     "iopub.status.idle": "2024-02-13T08:53:52.785737Z",
     "shell.execute_reply": "2024-02-13T08:53:52.784412Z"
    },
    "papermill": {
     "duration": 0.034186,
     "end_time": "2024-02-13T08:53:52.788432",
     "exception": false,
     "start_time": "2024-02-13T08:53:52.754246",
     "status": "completed"
    },
    "tags": []
   },
   "outputs": [],
   "source": [
    "# Modified linear schedule function\n",
    "def scheduler_modified_linear(epoch, learning_rate):\n",
    "    if epoch < 40:\n",
    "        return learning_rate\n",
    "    else:\n",
    "        return learning_rate * (100 - epoch) / (100 - epoch + 1)"
   ]
  },
  {
   "cell_type": "code",
   "execution_count": 27,
   "id": "f1899b5f",
   "metadata": {
    "execution": {
     "iopub.execute_input": "2024-02-13T08:53:52.838165Z",
     "iopub.status.busy": "2024-02-13T08:53:52.837648Z",
     "iopub.status.idle": "2024-02-13T08:53:52.843718Z",
     "shell.execute_reply": "2024-02-13T08:53:52.842747Z"
    },
    "papermill": {
     "duration": 0.03426,
     "end_time": "2024-02-13T08:53:52.846226",
     "exception": false,
     "start_time": "2024-02-13T08:53:52.811966",
     "status": "completed"
    },
    "tags": []
   },
   "outputs": [],
   "source": [
    "# Modified exponential schedule function\n",
    "def scheduler_modified_exponential(epoch, learning_rate):\n",
    "    if epoch < 40:\n",
    "        return learning_rate\n",
    "    else:\n",
    "        return learning_rate * math.exp(-0.1)"
   ]
  },
  {
   "cell_type": "code",
   "execution_count": 28,
   "id": "c5a8bcb9",
   "metadata": {
    "execution": {
     "iopub.execute_input": "2024-02-13T08:53:52.896899Z",
     "iopub.status.busy": "2024-02-13T08:53:52.895893Z",
     "iopub.status.idle": "2024-02-13T08:53:52.901018Z",
     "shell.execute_reply": "2024-02-13T08:53:52.900056Z"
    },
    "papermill": {
     "duration": 0.032648,
     "end_time": "2024-02-13T08:53:52.903298",
     "exception": false,
     "start_time": "2024-02-13T08:53:52.870650",
     "status": "completed"
    },
    "tags": []
   },
   "outputs": [],
   "source": [
    "# Learning rate scheduler callback\n",
    "learning_rate_scheduler = LearningRateScheduler(scheduler_modified_linear)"
   ]
  },
  {
   "cell_type": "code",
   "execution_count": 29,
   "id": "c2531c1d",
   "metadata": {
    "execution": {
     "iopub.execute_input": "2024-02-13T08:53:52.953066Z",
     "iopub.status.busy": "2024-02-13T08:53:52.952320Z",
     "iopub.status.idle": "2024-02-13T08:53:52.957107Z",
     "shell.execute_reply": "2024-02-13T08:53:52.956248Z"
    },
    "papermill": {
     "duration": 0.032763,
     "end_time": "2024-02-13T08:53:52.959507",
     "exception": false,
     "start_time": "2024-02-13T08:53:52.926744",
     "status": "completed"
    },
    "tags": []
   },
   "outputs": [],
   "source": [
    "# Model checkpoint callback\n",
    "model_checkpoint = ModelCheckpoint(filepath = 'best_model.h5', \n",
    "                                   monitor = 'val_loss', \n",
    "                                   save_best_only = True)"
   ]
  },
  {
   "cell_type": "code",
   "execution_count": 30,
   "id": "7e8c6a8b",
   "metadata": {
    "execution": {
     "iopub.execute_input": "2024-02-13T08:53:53.009103Z",
     "iopub.status.busy": "2024-02-13T08:53:53.008413Z",
     "iopub.status.idle": "2024-02-13T09:09:23.970132Z",
     "shell.execute_reply": "2024-02-13T09:09:23.968695Z"
    },
    "papermill": {
     "duration": 931.01231,
     "end_time": "2024-02-13T09:09:23.995326",
     "exception": false,
     "start_time": "2024-02-13T08:53:52.983016",
     "status": "completed"
    },
    "tags": []
   },
   "outputs": [
    {
     "name": "stderr",
     "output_type": "stream",
     "text": [
      "/opt/conda/lib/python3.10/site-packages/keras/src/engine/training.py:3000: UserWarning: You are saving your model as an HDF5 file via `model.save()`. This file format is considered legacy. We recommend using instead the native Keras format, e.g. `model.save('my_model.keras')`.\n",
      "  saving_api.save_model(\n"
     ]
    },
    {
     "name": "stdout",
     "output_type": "stream",
     "text": [
      "CPU times: user 19min 20s, sys: 1min 48s, total: 21min 8s\n",
      "Wall time: 15min 30s\n"
     ]
    }
   ],
   "source": [
    "%%time\n",
    "# Model fitting\n",
    "history = model.fit(X_train, \n",
    "                    y = y_train, \n",
    "                    batch_size = 32, \n",
    "                    epochs = 100, \n",
    "                    validation_split = 0.2, \n",
    "                    callbacks = [earlystop, learning_rate_scheduler, model_checkpoint],\n",
    "                    verbose = 0)"
   ]
  },
  {
   "cell_type": "code",
   "execution_count": 31,
   "id": "d4f3ae8b",
   "metadata": {
    "execution": {
     "iopub.execute_input": "2024-02-13T09:09:24.045422Z",
     "iopub.status.busy": "2024-02-13T09:09:24.044930Z",
     "iopub.status.idle": "2024-02-13T09:10:16.947918Z",
     "shell.execute_reply": "2024-02-13T09:10:16.946481Z"
    },
    "papermill": {
     "duration": 52.956785,
     "end_time": "2024-02-13T09:10:16.975983",
     "exception": false,
     "start_time": "2024-02-13T09:09:24.019198",
     "status": "completed"
    },
    "tags": []
   },
   "outputs": [
    {
     "data": {
      "image/png": "[encoded data removed]",
      "text/plain": [
       "<Figure size 1500x1000 with 1 Axes>"
      ]
     },
     "metadata": {},
     "output_type": "display_data"
    }
   ],
   "source": [
    "# Visualization of model loss\n",
    "plt.figure(figsize = (15, 10))\n",
    "plt.title('Model loss (binary crossentropy)', fontsize = 14)\n",
    "sns.lineplot(data = history.history['loss'], label = 'Train')\n",
    "sns.lineplot(data = history.history['val_loss'], label = 'Validation')\n",
    "plt.xlabel('Epoch', fontsize = 14)\n",
    "plt.ylabel('Loss', fontsize = 14)\n",
    "plt.legend()\n",
    "plt.savefig('bincross.jpg')\n",
    "plt.show()"
   ]
  },
  {
   "cell_type": "code",
   "execution_count": 32,
   "id": "d3b4b0b1",
   "metadata": {
    "execution": {
     "iopub.execute_input": "2024-02-13T09:10:17.029779Z",
     "iopub.status.busy": "2024-02-13T09:10:17.029315Z",
     "iopub.status.idle": "2024-02-13T09:10:17.762102Z",
     "shell.execute_reply": "2024-02-13T09:10:17.760715Z"
    },
    "papermill": {
     "duration": 0.764645,
     "end_time": "2024-02-13T09:10:17.765886",
     "exception": false,
     "start_time": "2024-02-13T09:10:17.001241",
     "status": "completed"
    },
    "tags": []
   },
   "outputs": [
    {
     "data": {
      "image/png": "[encoded data removed]",
      "text/plain": [
       "<Figure size 1500x1000 with 1 Axes>"
      ]
     },
     "metadata": {},
     "output_type": "display_data"
    }
   ],
   "source": [
    "# Visualization of model accuracy\n",
    "plt.figure(figsize = (15, 10))\n",
    "plt.title('Model accuracy', fontsize = 14)\n",
    "sns.lineplot(data = history.history['accuracy'], label = 'Train')\n",
    "sns.lineplot(data = history.history['val_accuracy'], label = 'Validation')\n",
    "plt.xlabel('Epoch', fontsize = 14)\n",
    "plt.ylabel('Accuracy', fontsize = 14)\n",
    "plt.legend()\n",
    "plt.savefig('accuracy.jpg')\n",
    "plt.show()"
   ]
  },
  {
   "cell_type": "code",
   "execution_count": 33,
   "id": "e1a23036",
   "metadata": {
    "execution": {
     "iopub.execute_input": "2024-02-13T09:10:17.823405Z",
     "iopub.status.busy": "2024-02-13T09:10:17.822259Z",
     "iopub.status.idle": "2024-02-13T09:10:17.847255Z",
     "shell.execute_reply": "2024-02-13T09:10:17.845988Z"
    },
    "papermill": {
     "duration": 0.057696,
     "end_time": "2024-02-13T09:10:17.850295",
     "exception": false,
     "start_time": "2024-02-13T09:10:17.792599",
     "status": "completed"
    },
    "tags": []
   },
   "outputs": [],
   "source": [
    "# Loading best weights\n",
    "model.load_weights('best_model.h5')"
   ]
  },
  {
   "cell_type": "code",
   "execution_count": 34,
   "id": "f9930a10",
   "metadata": {
    "execution": {
     "iopub.execute_input": "2024-02-13T09:10:17.905585Z",
     "iopub.status.busy": "2024-02-13T09:10:17.905147Z",
     "iopub.status.idle": "2024-02-13T09:10:30.990019Z",
     "shell.execute_reply": "2024-02-13T09:10:30.988619Z"
    },
    "papermill": {
     "duration": 13.115731,
     "end_time": "2024-02-13T09:10:30.992901",
     "exception": false,
     "start_time": "2024-02-13T09:10:17.877170",
     "status": "completed"
    },
    "tags": []
   },
   "outputs": [],
   "source": [
    "# Prediction of label 1 probabilities\n",
    "y_train_proba = model.predict(X_train, verbose = 0).flatten()\n",
    "y_test_proba = model.predict(X_test, verbose = 0).flatten()"
   ]
  },
  {
   "cell_type": "code",
   "execution_count": 35,
   "id": "5e78b1e5",
   "metadata": {
    "execution": {
     "iopub.execute_input": "2024-02-13T09:10:31.048812Z",
     "iopub.status.busy": "2024-02-13T09:10:31.048322Z",
     "iopub.status.idle": "2024-02-13T09:10:31.055586Z",
     "shell.execute_reply": "2024-02-13T09:10:31.054207Z"
    },
    "papermill": {
     "duration": 0.037953,
     "end_time": "2024-02-13T09:10:31.057871",
     "exception": false,
     "start_time": "2024-02-13T09:10:31.019918",
     "status": "completed"
    },
    "tags": []
   },
   "outputs": [],
   "source": [
    "def proba_to_pred(y_proba, threshold = 0.5):\n",
    "    \"\"\"\n",
    "    Computes vector of binary predictions from an array of probabilities and a specified threshold\n",
    "    Args:\n",
    "        y_proba (array_like, shape (m, )): Array of label 1 probabilities\n",
    "        threshold (scalar)               : System predicts 0 if probability < threshold, 1 otherwise\n",
    "    \n",
    "    Returns:\n",
    "        y_pred (array_like, shape (m, )): List of predicted labels\n",
    "    \"\"\"\n",
    "    y_pred = np.array([0 if y_proba[i] < threshold else 1 for i in range(len(y_proba))])\n",
    "    return y_pred"
   ]
  },
  {
   "cell_type": "code",
   "execution_count": 36,
   "id": "ea3ed811",
   "metadata": {
    "execution": {
     "iopub.execute_input": "2024-02-13T09:10:31.115010Z",
     "iopub.status.busy": "2024-02-13T09:10:31.114533Z",
     "iopub.status.idle": "2024-02-13T09:10:31.992272Z",
     "shell.execute_reply": "2024-02-13T09:10:31.990766Z"
    },
    "papermill": {
     "duration": 0.910166,
     "end_time": "2024-02-13T09:10:31.995384",
     "exception": false,
     "start_time": "2024-02-13T09:10:31.085218",
     "status": "completed"
    },
    "tags": []
   },
   "outputs": [],
   "source": [
    "# Conversion to labels\n",
    "y_train_pred = proba_to_pred(y_train_proba, threshold = 0.5)\n",
    "y_test_pred = proba_to_pred(y_test_proba, threshold = 0.5)"
   ]
  },
  {
   "cell_type": "code",
   "execution_count": 37,
   "id": "1ef1830e",
   "metadata": {
    "execution": {
     "iopub.execute_input": "2024-02-13T09:10:32.050977Z",
     "iopub.status.busy": "2024-02-13T09:10:32.050482Z",
     "iopub.status.idle": "2024-02-13T09:10:32.314130Z",
     "shell.execute_reply": "2024-02-13T09:10:32.312776Z"
    },
    "papermill": {
     "duration": 0.29471,
     "end_time": "2024-02-13T09:10:32.316892",
     "exception": false,
     "start_time": "2024-02-13T09:10:32.022182",
     "status": "completed"
    },
    "tags": []
   },
   "outputs": [
    {
     "name": "stdout",
     "output_type": "stream",
     "text": [
      "Training AMS: 2.509776\n",
      "Test AMS    : 1.21426\n"
     ]
    }
   ],
   "source": [
    "# AMS\n",
    "ams_train = compute_ams(y_train, y_train_pred, w_train)\n",
    "ams_test = compute_ams(y_test, y_test_pred, w_test)\n",
    "\n",
    "print(f\"Training AMS: {round(ams_train, 6)}\")\n",
    "print(f\"Test AMS    : {round(ams_test, 6)}\")"
   ]
  },
  {
   "cell_type": "markdown",
   "id": "6fd525fb",
   "metadata": {
    "papermill": {
     "duration": 0.02595,
     "end_time": "2024-02-13T09:10:32.369172",
     "exception": false,
     "start_time": "2024-02-13T09:10:32.343222",
     "status": "completed"
    },
    "tags": []
   },
   "source": [
    "# 7. Hyperparameter Tuning"
   ]
  },
  {
   "cell_type": "code",
   "execution_count": 38,
   "id": "13e45850",
   "metadata": {
    "execution": {
     "iopub.execute_input": "2024-02-13T09:10:32.425038Z",
     "iopub.status.busy": "2024-02-13T09:10:32.424560Z",
     "iopub.status.idle": "2024-02-13T09:10:32.431202Z",
     "shell.execute_reply": "2024-02-13T09:10:32.429997Z"
    },
    "papermill": {
     "duration": 0.037622,
     "end_time": "2024-02-13T09:10:32.433649",
     "exception": false,
     "start_time": "2024-02-13T09:10:32.396027",
     "status": "completed"
    },
    "tags": []
   },
   "outputs": [],
   "source": [
    "# Model creation\n",
    "model_ = KerasClassifier(model = createModel, \n",
    "                         optimizer = 'adam', \n",
    "                         loss = 'binary_crossentropy', \n",
    "                         batch_size = 32, \n",
    "                         epochs = 100, \n",
    "                         learning_rate = 0.001, \n",
    "                         callbacks = [earlystop, learning_rate_scheduler, model_checkpoint], \n",
    "                         random_state = 0, \n",
    "                         verbose = 0)"
   ]
  },
  {
   "cell_type": "code",
   "execution_count": 39,
   "id": "7692cad6",
   "metadata": {
    "execution": {
     "iopub.execute_input": "2024-02-13T09:10:32.488557Z",
     "iopub.status.busy": "2024-02-13T09:10:32.488136Z",
     "iopub.status.idle": "2024-02-13T11:43:24.139730Z",
     "shell.execute_reply": "2024-02-13T11:43:24.138287Z"
    },
    "papermill": {
     "duration": 9171.709304,
     "end_time": "2024-02-13T11:43:24.169495",
     "exception": false,
     "start_time": "2024-02-13T09:10:32.460191",
     "status": "completed"
    },
    "tags": []
   },
   "outputs": [
    {
     "name": "stdout",
     "output_type": "stream",
     "text": [
      "Fitting 5 folds for each of 9 candidates, totalling 45 fits\n"
     ]
    },
    {
     "name": "stderr",
     "output_type": "stream",
     "text": [
      "/opt/conda/lib/python3.10/site-packages/keras/src/engine/training.py:3000: UserWarning: You are saving your model as an HDF5 file via `model.save()`. This file format is considered legacy. We recommend using instead the native Keras format, e.g. `model.save('my_model.keras')`.\n",
      "  saving_api.save_model(\n"
     ]
    },
    {
     "name": "stdout",
     "output_type": "stream",
     "text": [
      "CPU times: user 13min 46s, sys: 43.6 s, total: 14min 29s\n",
      "Wall time: 2h 32min 51s\n"
     ]
    }
   ],
   "source": [
    "%%time\n",
    "# Grid search\n",
    "param_grid = {\n",
    "    'batch_size'   : [32, 64, 128],\n",
    "    'learning_rate': [0.001, 0.003, 0.01]\n",
    "}\n",
    "\n",
    "grid = GridSearchCV(estimator = model_, \n",
    "                    param_grid = param_grid, \n",
    "                    cv = 5,\n",
    "                    scoring = 'accuracy', \n",
    "                    n_jobs = -1, \n",
    "                    refit = True, \n",
    "                    verbose = 1)\n",
    "\n",
    "grid_result = grid.fit(X_train, \n",
    "                       y = y_train, \n",
    "                       validation_split = 0.2, \n",
    "                       callbacks = [earlystop, learning_rate_scheduler, model_checkpoint],\n",
    "                       verbose = 0)"
   ]
  },
  {
   "cell_type": "code",
   "execution_count": 40,
   "id": "ea1be6d1",
   "metadata": {
    "execution": {
     "iopub.execute_input": "2024-02-13T11:43:24.227284Z",
     "iopub.status.busy": "2024-02-13T11:43:24.226077Z",
     "iopub.status.idle": "2024-02-13T11:43:24.248768Z",
     "shell.execute_reply": "2024-02-13T11:43:24.247582Z"
    },
    "papermill": {
     "duration": 0.0551,
     "end_time": "2024-02-13T11:43:24.251484",
     "exception": false,
     "start_time": "2024-02-13T11:43:24.196384",
     "status": "completed"
    },
    "tags": []
   },
   "outputs": [
    {
     "data": {
      "text/html": [
       "<div>\n",
       "<style scoped>\n",
       "    .dataframe tbody tr th:only-of-type {\n",
       "        vertical-align: middle;\n",
       "    }\n",
       "\n",
       "    .dataframe tbody tr th {\n",
       "        vertical-align: top;\n",
       "    }\n",
       "\n",
       "    .dataframe thead th {\n",
       "        text-align: right;\n",
       "    }\n",
       "</style>\n",
       "<table border=\"1\" class=\"dataframe\">\n",
       "  <thead>\n",
       "    <tr style=\"text-align: right;\">\n",
       "      <th></th>\n",
       "      <th>rank_test_score</th>\n",
       "      <th>param_batch_size</th>\n",
       "      <th>param_learning_rate</th>\n",
       "      <th>mean_test_score</th>\n",
       "      <th>std_test_score</th>\n",
       "    </tr>\n",
       "  </thead>\n",
       "  <tbody>\n",
       "    <tr>\n",
       "      <th>7</th>\n",
       "      <td>1</td>\n",
       "      <td>128</td>\n",
       "      <td>0.003</td>\n",
       "      <td>0.827820</td>\n",
       "      <td>0.001155</td>\n",
       "    </tr>\n",
       "    <tr>\n",
       "      <th>0</th>\n",
       "      <td>2</td>\n",
       "      <td>32</td>\n",
       "      <td>0.001</td>\n",
       "      <td>0.827250</td>\n",
       "      <td>0.002666</td>\n",
       "    </tr>\n",
       "    <tr>\n",
       "      <th>4</th>\n",
       "      <td>3</td>\n",
       "      <td>64</td>\n",
       "      <td>0.003</td>\n",
       "      <td>0.826730</td>\n",
       "      <td>0.001113</td>\n",
       "    </tr>\n",
       "    <tr>\n",
       "      <th>1</th>\n",
       "      <td>4</td>\n",
       "      <td>32</td>\n",
       "      <td>0.003</td>\n",
       "      <td>0.826685</td>\n",
       "      <td>0.001669</td>\n",
       "    </tr>\n",
       "    <tr>\n",
       "      <th>8</th>\n",
       "      <td>5</td>\n",
       "      <td>128</td>\n",
       "      <td>0.01</td>\n",
       "      <td>0.826160</td>\n",
       "      <td>0.002927</td>\n",
       "    </tr>\n",
       "    <tr>\n",
       "      <th>3</th>\n",
       "      <td>6</td>\n",
       "      <td>64</td>\n",
       "      <td>0.001</td>\n",
       "      <td>0.825825</td>\n",
       "      <td>0.001768</td>\n",
       "    </tr>\n",
       "    <tr>\n",
       "      <th>5</th>\n",
       "      <td>7</td>\n",
       "      <td>64</td>\n",
       "      <td>0.01</td>\n",
       "      <td>0.825390</td>\n",
       "      <td>0.001404</td>\n",
       "    </tr>\n",
       "    <tr>\n",
       "      <th>6</th>\n",
       "      <td>8</td>\n",
       "      <td>128</td>\n",
       "      <td>0.001</td>\n",
       "      <td>0.824590</td>\n",
       "      <td>0.001303</td>\n",
       "    </tr>\n",
       "    <tr>\n",
       "      <th>2</th>\n",
       "      <td>9</td>\n",
       "      <td>32</td>\n",
       "      <td>0.01</td>\n",
       "      <td>0.820960</td>\n",
       "      <td>0.002107</td>\n",
       "    </tr>\n",
       "  </tbody>\n",
       "</table>\n",
       "</div>"
      ],
      "text/plain": [
       "   rank_test_score param_batch_size param_learning_rate  mean_test_score  \\\n",
       "7                1              128               0.003         0.827820   \n",
       "0                2               32               0.001         0.827250   \n",
       "4                3               64               0.003         0.826730   \n",
       "1                4               32               0.003         0.826685   \n",
       "8                5              128                0.01         0.826160   \n",
       "3                6               64               0.001         0.825825   \n",
       "5                7               64                0.01         0.825390   \n",
       "6                8              128               0.001         0.824590   \n",
       "2                9               32                0.01         0.820960   \n",
       "\n",
       "   std_test_score  \n",
       "7        0.001155  \n",
       "0        0.002666  \n",
       "4        0.001113  \n",
       "1        0.001669  \n",
       "8        0.002927  \n",
       "3        0.001768  \n",
       "5        0.001404  \n",
       "6        0.001303  \n",
       "2        0.002107  "
      ]
     },
     "execution_count": 40,
     "metadata": {},
     "output_type": "execute_result"
    }
   ],
   "source": [
    "# Summary of grid search\n",
    "results = pd.DataFrame(grid.cv_results_)\n",
    "cols = [\n",
    "    'rank_test_score', \n",
    "    'param_batch_size', \n",
    "    'param_learning_rate', \n",
    "    'mean_test_score', \n",
    "    'std_test_score'\n",
    "]\n",
    "results[cols].sort_values(by = 'rank_test_score')"
   ]
  },
  {
   "cell_type": "code",
   "execution_count": 41,
   "id": "991b9fd3",
   "metadata": {
    "execution": {
     "iopub.execute_input": "2024-02-13T11:43:24.307115Z",
     "iopub.status.busy": "2024-02-13T11:43:24.306653Z",
     "iopub.status.idle": "2024-02-13T11:43:24.313980Z",
     "shell.execute_reply": "2024-02-13T11:43:24.312119Z"
    },
    "papermill": {
     "duration": 0.038212,
     "end_time": "2024-02-13T11:43:24.316591",
     "exception": false,
     "start_time": "2024-02-13T11:43:24.278379",
     "status": "completed"
    },
    "tags": []
   },
   "outputs": [
    {
     "name": "stdout",
     "output_type": "stream",
     "text": [
      "Best parameters: {'batch_size': 128, 'learning_rate': 0.003}\n",
      "Best cross-validation accuracy: 0.82782\n"
     ]
    }
   ],
   "source": [
    "# Summary of best estimator\n",
    "print(f\"Best parameters: {grid.best_params_}\")\n",
    "print(f\"Best cross-validation accuracy: {round(grid.best_score_, 6)}\")"
   ]
  },
  {
   "cell_type": "markdown",
   "id": "c5a72f8d",
   "metadata": {
    "papermill": {
     "duration": 0.027491,
     "end_time": "2024-02-13T11:43:24.371886",
     "exception": false,
     "start_time": "2024-02-13T11:43:24.344395",
     "status": "completed"
    },
    "tags": []
   },
   "source": [
    "# 8. Prediction and Evaluation"
   ]
  },
  {
   "cell_type": "code",
   "execution_count": 42,
   "id": "6d203702",
   "metadata": {
    "execution": {
     "iopub.execute_input": "2024-02-13T11:43:24.429253Z",
     "iopub.status.busy": "2024-02-13T11:43:24.428781Z",
     "iopub.status.idle": "2024-02-13T11:43:27.688780Z",
     "shell.execute_reply": "2024-02-13T11:43:27.687541Z"
    },
    "papermill": {
     "duration": 3.292003,
     "end_time": "2024-02-13T11:43:27.691999",
     "exception": false,
     "start_time": "2024-02-13T11:43:24.399996",
     "status": "completed"
    },
    "tags": []
   },
   "outputs": [],
   "source": [
    "# Prediction of label 1 probabilities\n",
    "best_model_ = grid.best_estimator_\n",
    "\n",
    "y_train_proba_ = best_model_.predict_proba(X_train, verbose = 0)[:, 1:].flatten()\n",
    "y_test_proba_ = best_model_.predict_proba(X_test, verbose = 0)[:, 1:].flatten()"
   ]
  },
  {
   "cell_type": "code",
   "execution_count": 43,
   "id": "82056c05",
   "metadata": {
    "execution": {
     "iopub.execute_input": "2024-02-13T11:43:27.748937Z",
     "iopub.status.busy": "2024-02-13T11:43:27.748456Z",
     "iopub.status.idle": "2024-02-13T11:43:28.621442Z",
     "shell.execute_reply": "2024-02-13T11:43:28.620546Z"
    },
    "papermill": {
     "duration": 0.904632,
     "end_time": "2024-02-13T11:43:28.624193",
     "exception": false,
     "start_time": "2024-02-13T11:43:27.719561",
     "status": "completed"
    },
    "tags": []
   },
   "outputs": [],
   "source": [
    "# Conversion to labels using the best threshold\n",
    "y_train_pred_ = proba_to_pred(y_train_proba_, threshold = 0.5)\n",
    "y_test_pred_ = proba_to_pred(y_test_proba_, threshold = 0.5)\n",
    "\n",
    "# Alternative code when threshold = 0.5\n",
    "# without requiring the computation of `y_train_proba_` and `y_test_proba_`\n",
    "# y_train_pred_ = best_model_.predict(X_train, verbose = 0)\n",
    "# y_test_pred_ = best_model_.predict(X_test, verbose = 0)"
   ]
  },
  {
   "cell_type": "code",
   "execution_count": 44,
   "id": "54e51af0",
   "metadata": {
    "execution": {
     "iopub.execute_input": "2024-02-13T11:43:28.681714Z",
     "iopub.status.busy": "2024-02-13T11:43:28.681250Z",
     "iopub.status.idle": "2024-02-13T11:43:28.947815Z",
     "shell.execute_reply": "2024-02-13T11:43:28.946438Z"
    },
    "papermill": {
     "duration": 0.298163,
     "end_time": "2024-02-13T11:43:28.950747",
     "exception": false,
     "start_time": "2024-02-13T11:43:28.652584",
     "status": "completed"
    },
    "tags": []
   },
   "outputs": [
    {
     "name": "stdout",
     "output_type": "stream",
     "text": [
      "Training AMS: 2.500144\n",
      "Test AMS    : 1.200022\n"
     ]
    }
   ],
   "source": [
    "# AMS\n",
    "ams_train_ = compute_ams(y_train, y_train_pred_, w_train)\n",
    "ams_test_ = compute_ams(y_test, y_test_pred_, w_test)\n",
    "\n",
    "print(f\"Training AMS: {round(ams_train_, 6)}\")\n",
    "print(f\"Test AMS    : {round(ams_test_, 6)}\")"
   ]
  },
  {
   "cell_type": "code",
   "execution_count": 45,
   "id": "6385a2ee",
   "metadata": {
    "execution": {
     "iopub.execute_input": "2024-02-13T11:43:29.008302Z",
     "iopub.status.busy": "2024-02-13T11:43:29.007854Z",
     "iopub.status.idle": "2024-02-13T11:43:29.041782Z",
     "shell.execute_reply": "2024-02-13T11:43:29.040906Z"
    },
    "papermill": {
     "duration": 0.065651,
     "end_time": "2024-02-13T11:43:29.044524",
     "exception": false,
     "start_time": "2024-02-13T11:43:28.978873",
     "status": "completed"
    },
    "tags": []
   },
   "outputs": [
    {
     "name": "stdout",
     "output_type": "stream",
     "text": [
      "Training accuracy: 0.82707\n",
      "Test accuracy    : 0.8241\n"
     ]
    }
   ],
   "source": [
    "# Accuracy\n",
    "accuracy_train_ = accuracy_score(y_train, y_train_pred_)\n",
    "accuracy_test_ = accuracy_score(y_test, y_test_pred_)\n",
    "\n",
    "print(f\"Training accuracy: {round(accuracy_train_, 6)}\")\n",
    "print(f\"Test accuracy    : {round(accuracy_test_, 6)}\")"
   ]
  },
  {
   "cell_type": "code",
   "execution_count": 46,
   "id": "7caaac52",
   "metadata": {
    "execution": {
     "iopub.execute_input": "2024-02-13T11:43:29.104737Z",
     "iopub.status.busy": "2024-02-13T11:43:29.103423Z",
     "iopub.status.idle": "2024-02-13T11:43:29.113965Z",
     "shell.execute_reply": "2024-02-13T11:43:29.112849Z"
    },
    "papermill": {
     "duration": 0.043226,
     "end_time": "2024-02-13T11:43:29.116598",
     "exception": false,
     "start_time": "2024-02-13T11:43:29.073372",
     "status": "completed"
    },
    "tags": []
   },
   "outputs": [],
   "source": [
    "# Function to compute and print confusion matrix\n",
    "def conf_matrix(y_true, y_pred, n_class, class_names = 'default', figsize = (6.25, 5), font_scale = 1, annot_kws_size = 12):\n",
    "    if class_names == 'default':\n",
    "        class_names = np.arange(n_class)\n",
    "    tick_marks_y = np.arange(n_class) + 0.5\n",
    "    tick_marks_x = np.arange(n_class) + 0.5\n",
    "    confusion_matrix = metrics.confusion_matrix(y_true, y_pred)\n",
    "    confusion_matrix_df = pd.DataFrame(confusion_matrix, range(n_class), range(n_class))\n",
    "    plt.figure(figsize = figsize)\n",
    "    sns.set(font_scale = font_scale) # label size\n",
    "    plt.title(\"Confusion Matrix\")\n",
    "    sns.heatmap(confusion_matrix_df, annot = True, annot_kws = {\"size\": annot_kws_size}, fmt = 'd') # font size\n",
    "    plt.yticks(tick_marks_y, class_names, rotation = 'vertical')\n",
    "    plt.xticks(tick_marks_x, class_names, rotation = 'horizontal')\n",
    "    plt.ylabel('True label')\n",
    "    plt.xlabel('Predicted label')\n",
    "    plt.grid(False)\n",
    "    plt.savefig('confmat.jpg')\n",
    "    plt.show()"
   ]
  },
  {
   "cell_type": "code",
   "execution_count": 47,
   "id": "1b94f193",
   "metadata": {
    "execution": {
     "iopub.execute_input": "2024-02-13T11:43:29.176406Z",
     "iopub.status.busy": "2024-02-13T11:43:29.175312Z",
     "iopub.status.idle": "2024-02-13T11:43:29.651540Z",
     "shell.execute_reply": "2024-02-13T11:43:29.650266Z"
    },
    "papermill": {
     "duration": 0.509666,
     "end_time": "2024-02-13T11:43:29.654388",
     "exception": false,
     "start_time": "2024-02-13T11:43:29.144722",
     "status": "completed"
    },
    "tags": []
   },
   "outputs": [
    {
     "data": {
      "image/png": "[encoded data removed]",
      "text/plain": [
       "<Figure size 625x500 with 2 Axes>"
      ]
     },
     "metadata": {},
     "output_type": "display_data"
    }
   ],
   "source": [
    "# Confusion matrix\n",
    "conf_matrix(y_test, y_test_pred_, n_class = 2, class_names = ['Background', 'Signal'])"
   ]
  },
  {
   "cell_type": "markdown",
   "id": "77771d06",
   "metadata": {
    "papermill": {
     "duration": 0.028995,
     "end_time": "2024-02-13T11:43:29.713533",
     "exception": false,
     "start_time": "2024-02-13T11:43:29.684538",
     "status": "completed"
    },
    "tags": []
   },
   "source": [
    "# Acknowledgements\n",
    "\n",
    "- [**Higgs Boson Machine Learning Challenge dataset**](https://www.kaggle.com/competitions/higgs-boson/data)\n",
    "- [**Implementation of the scikit-learn classifier API for Keras**](https://adriangb.com/scikeras/stable/generated/scikeras.wrappers.KerasClassifier.html)"
   ]
  },
  {
   "cell_type": "markdown",
   "id": "b2eaaf03",
   "metadata": {
    "papermill": {
     "duration": 0.028324,
     "end_time": "2024-02-13T11:43:29.770369",
     "exception": false,
     "start_time": "2024-02-13T11:43:29.742045",
     "status": "completed"
    },
    "tags": []
   },
   "source": [
    "# References\n",
    "\n",
    "- [**Approximate median significance**](https://www.kaggle.com/competitions/higgs-boson/overview/evaluation)\n",
    "- [**Evaluation metric**](https://en.wikipedia.org/wiki/Evaluation_of_binary_classifiers)\n",
    "- [**Exploratory data analysis**](https://en.wikipedia.org/wiki/Exploratory_data_analysis)\n",
    "- [**False positive rate**](https://en.wikipedia.org/wiki/False_positive_rate)\n",
    "- [**Fundamental interaction**](https://en.wikipedia.org/wiki/Fundamental_interaction)\n",
    "- [**Indicator function**](https://en.wikipedia.org/wiki/Indicator_function)\n",
    "- [**Order theory**](https://en.wikipedia.org/wiki/Order_theory)\n",
    "- [**Natural logarithm**](https://en.wikipedia.org/wiki/Natural_logarithm)\n",
    "- [**Nominal category**](https://en.wikipedia.org/wiki/Nominal_category)\n",
    "- [**Neural network**](https://en.wikipedia.org/wiki/Neural_network)\n",
    "- [**Particle physics**](https://en.wikipedia.org/wiki/Particle_physics)\n",
    "- [**Stratified sampling**](https://en.wikipedia.org/wiki/Stratified_sampling)\n",
    "- [**Test set**](https://en.wikipedia.org/wiki/Training,_validation,_and_test_data_sets#Test_data_set)\n",
    "- [**Training set**](https://en.wikipedia.org/wiki/Training,_validation,_and_test_data_sets#Training_data_set)\n",
    "- [**Train-test split**](https://scikit-learn.org/stable/modules/generated/sklearn.model_selection.train_test_split.html)\n",
    "- [**True positive rate**](https://en.wikipedia.org/wiki/Sensitivity_and_specificity)"
   ]
  },
  {
   "cell_type": "code",
   "execution_count": 48,
   "id": "f043b7ef",
   "metadata": {
    "execution": {
     "iopub.execute_input": "2024-02-13T11:43:29.830539Z",
     "iopub.status.busy": "2024-02-13T11:43:29.830071Z",
     "iopub.status.idle": "2024-02-13T11:43:29.839173Z",
     "shell.execute_reply": "2024-02-13T11:43:29.838021Z"
    },
    "papermill": {
     "duration": 0.042263,
     "end_time": "2024-02-13T11:43:29.841521",
     "exception": false,
     "start_time": "2024-02-13T11:43:29.799258",
     "status": "completed"
    },
    "tags": []
   },
   "outputs": [
    {
     "name": "stdout",
     "output_type": "stream",
     "text": [
      "Process runtime         10184.52 seconds\n",
      "Process memory usage          1802.48 MB\n"
     ]
    }
   ],
   "source": [
    "# Runtime and memory usage\n",
    "stop = time.time()\n",
    "print(pd.Series({\"Process runtime\": \"{:.2f} seconds\".format(float(stop - start)),\n",
    "                 \"Process memory usage\": \"{:.2f} MB\".format(float(process.memory_info()[0]/(1024*1024)))}).to_string())"
   ]
  }
 ],
 "metadata": {
  "kaggle": {
   "accelerator": "none",
   "dataSources": [
    {
     "databundleVersionId": 32350,
     "sourceId": 3887,
     "sourceType": "competition"
    }
   ],
   "dockerImageVersionId": 30635,
   "isGpuEnabled": false,
   "isInternetEnabled": true,
   "language": "python",
   "sourceType": "notebook"
  },
  "kernelspec": {
   "display_name": "Python 3",
   "language": "python",
   "name": "python3"
  },
  "language_info": {
   "codemirror_mode": {
    "name": "ipython",
    "version": 3
   },
   "file_extension": ".py",
   "mimetype": "text/x-python",
   "name": "python",
   "nbconvert_exporter": "python",
   "pygments_lexer": "ipython3",
   "version": "3.10.12"
  },
  "papermill": {
   "default_parameters": {},
   "duration": 10227.365394,
   "end_time": "2024-02-13T11:43:32.619365",
   "environment_variables": {},
   "exception": null,
   "input_path": "__notebook__.ipynb",
   "output_path": "__notebook__.ipynb",
   "parameters": {},
   "start_time": "2024-02-13T08:53:05.253971",
   "version": "2.4.0"
  }
 },
 "nbformat": 4,
 "nbformat_minor": 5
}
